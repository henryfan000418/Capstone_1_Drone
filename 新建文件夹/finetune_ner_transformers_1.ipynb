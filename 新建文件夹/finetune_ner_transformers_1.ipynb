{
 "cells": [
  {
   "cell_type": "code",
   "execution_count": 1,
   "id": "712df94e-9ac5-4a23-8194-dd9bd6934481",
   "metadata": {
    "tags": []
   },
   "outputs": [],
   "source": [
    "import torch\n",
    "import evaluate\n",
    "import pandas as pd\n",
    "import numpy as np\n",
    "from transformers import(\n",
    "    AutoTokenizer,\n",
    "    DataCollatorForTokenClassification,\n",
    "    AutoModelForTokenClassification,\n",
    "    TrainingArguments,\n",
    "    Trainer\n",
    ")\n",
    "from datasets import load_dataset"
   ]
  },
  {
   "cell_type": "code",
   "execution_count": 2,
   "id": "45ad3942-a68a-4336-b622-c1bae3b8091b",
   "metadata": {
    "tags": []
   },
   "outputs": [],
   "source": [
    "pd.options.display.max_rows = 100"
   ]
  },
  {
   "cell_type": "code",
   "execution_count": 3,
   "id": "fcd931c7-02f5-44ed-9860-34b80f492a4c",
   "metadata": {
    "tags": []
   },
   "outputs": [
    {
     "name": "stdout",
     "output_type": "stream",
     "text": [
      "Using cuda as device.\n"
     ]
    }
   ],
   "source": [
    "if torch.cuda.is_available():\n",
    "    device = \"cuda\"\n",
    "else:\n",
    "    device = \"cpu\"\n",
    "\n",
    "print(f\"Using {device} as device.\")"
   ]
  },
  {
   "cell_type": "code",
   "execution_count": 4,
   "id": "864a8041-578e-40dd-8ebe-7e2052fec04f",
   "metadata": {
    "tags": []
   },
   "outputs": [],
   "source": [
    "model_ckpt = \"distilbert-base-cased\""
   ]
  },
  {
   "cell_type": "code",
   "execution_count": 6,
   "id": "b095ed30-c89e-4bac-819e-ddbe88aee662",
   "metadata": {
    "tags": []
   },
   "outputs": [],
   "source": [
    "wnut = load_dataset(\"wnut_17\", trust_remote_code=True)"
   ]
  },
  {
   "cell_type": "code",
   "execution_count": 7,
   "id": "94d8b0ba-9d8f-4ced-a553-7ba22c06e6a9",
   "metadata": {
    "tags": []
   },
   "outputs": [
    {
     "data": {
      "text/plain": [
       "DatasetDict({\n",
       "    train: Dataset({\n",
       "        features: ['id', 'tokens', 'ner_tags'],\n",
       "        num_rows: 3394\n",
       "    })\n",
       "    validation: Dataset({\n",
       "        features: ['id', 'tokens', 'ner_tags'],\n",
       "        num_rows: 1009\n",
       "    })\n",
       "    test: Dataset({\n",
       "        features: ['id', 'tokens', 'ner_tags'],\n",
       "        num_rows: 1287\n",
       "    })\n",
       "})"
      ]
     },
     "execution_count": 7,
     "metadata": {},
     "output_type": "execute_result"
    }
   ],
   "source": [
    "wnut"
   ]
  },
  {
   "cell_type": "markdown",
   "id": "c8ea4620-d2f3-4e55-9909-20631df954a4",
   "metadata": {},
   "source": [
    "Look at the first training example, we see that the text is split into tokens, where each token has an associated label. **We will still have to pass the text through the huggingface tokenizer to create subword tokens that the model expects**."
   ]
  },
  {
   "cell_type": "code",
   "execution_count": 8,
   "id": "64e203a3-8d96-444c-8ace-ba00a1c6302b",
   "metadata": {
    "tags": []
   },
   "outputs": [
    {
     "data": {
      "text/plain": [
       "{'id': '0',\n",
       " 'tokens': ['@paulwalk',\n",
       "  'It',\n",
       "  \"'s\",\n",
       "  'the',\n",
       "  'view',\n",
       "  'from',\n",
       "  'where',\n",
       "  'I',\n",
       "  \"'m\",\n",
       "  'living',\n",
       "  'for',\n",
       "  'two',\n",
       "  'weeks',\n",
       "  '.',\n",
       "  'Empire',\n",
       "  'State',\n",
       "  'Building',\n",
       "  '=',\n",
       "  'ESB',\n",
       "  '.',\n",
       "  'Pretty',\n",
       "  'bad',\n",
       "  'storm',\n",
       "  'here',\n",
       "  'last',\n",
       "  'evening',\n",
       "  '.'],\n",
       " 'ner_tags': [0,\n",
       "  0,\n",
       "  0,\n",
       "  0,\n",
       "  0,\n",
       "  0,\n",
       "  0,\n",
       "  0,\n",
       "  0,\n",
       "  0,\n",
       "  0,\n",
       "  0,\n",
       "  0,\n",
       "  0,\n",
       "  7,\n",
       "  8,\n",
       "  8,\n",
       "  0,\n",
       "  7,\n",
       "  0,\n",
       "  0,\n",
       "  0,\n",
       "  0,\n",
       "  0,\n",
       "  0,\n",
       "  0,\n",
       "  0]}"
      ]
     },
     "execution_count": 8,
     "metadata": {},
     "output_type": "execute_result"
    }
   ],
   "source": [
    "wnut[\"train\"][0]"
   ]
  },
  {
   "cell_type": "markdown",
   "id": "1c3e28fd-232a-43dc-8f7b-94432b66d618",
   "metadata": {},
   "source": [
    "We can also see that the `ner_tags` column is a `Sequence` object that's specific to Huggingface. We can use the attributes of this class to extract the label names."
   ]
  },
  {
   "cell_type": "code",
   "execution_count": 9,
   "id": "bf33a29d-fdb8-4f17-af5b-30ce71c07a9d",
   "metadata": {
    "tags": []
   },
   "outputs": [
    {
     "data": {
      "text/plain": [
       "{'id': Value(dtype='string', id=None),\n",
       " 'tokens': Sequence(feature=Value(dtype='string', id=None), length=-1, id=None),\n",
       " 'ner_tags': Sequence(feature=ClassLabel(names=['O', 'B-corporation', 'I-corporation', 'B-creative-work', 'I-creative-work', 'B-group', 'I-group', 'B-location', 'I-location', 'B-person', 'I-person', 'B-product', 'I-product'], id=None), length=-1, id=None)}"
      ]
     },
     "execution_count": 9,
     "metadata": {},
     "output_type": "execute_result"
    }
   ],
   "source": [
    "wnut[\"train\"].features"
   ]
  },
  {
   "cell_type": "code",
   "execution_count": 10,
   "id": "292ff6b4-e85d-49f6-9794-e1ce6c568a39",
   "metadata": {
    "tags": []
   },
   "outputs": [
    {
     "data": {
      "text/plain": [
       "['O',\n",
       " 'B-corporation',\n",
       " 'I-corporation',\n",
       " 'B-creative-work',\n",
       " 'I-creative-work',\n",
       " 'B-group',\n",
       " 'I-group',\n",
       " 'B-location',\n",
       " 'I-location',\n",
       " 'B-person',\n",
       " 'I-person',\n",
       " 'B-product',\n",
       " 'I-product']"
      ]
     },
     "execution_count": 10,
     "metadata": {},
     "output_type": "execute_result"
    }
   ],
   "source": [
    "# navigating the data structure above to get features\n",
    "label_names = wnut[\"train\"].features[\"ner_tags\"].feature.names\n",
    "label_names"
   ]
  },
  {
   "cell_type": "code",
   "execution_count": 11,
   "id": "a98a2850-2d8e-40af-8edf-a455f842bda3",
   "metadata": {
    "tags": []
   },
   "outputs": [
    {
     "data": {
      "application/vnd.jupyter.widget-view+json": {
       "model_id": "b99404b84ebd4102a5a0b5cc8b1f3d8b",
       "version_major": 2,
       "version_minor": 0
      },
      "text/plain": [
       "tokenizer_config.json:   0%|          | 0.00/49.0 [00:00<?, ?B/s]"
      ]
     },
     "metadata": {},
     "output_type": "display_data"
    },
    {
     "data": {
      "application/vnd.jupyter.widget-view+json": {
       "model_id": "6a9b3dc3a5144bc3b1ea6ff89c5299bd",
       "version_major": 2,
       "version_minor": 0
      },
      "text/plain": [
       "config.json:   0%|          | 0.00/465 [00:00<?, ?B/s]"
      ]
     },
     "metadata": {},
     "output_type": "display_data"
    },
    {
     "data": {
      "application/vnd.jupyter.widget-view+json": {
       "model_id": "f97feadc6e074eefbbe7324712de319e",
       "version_major": 2,
       "version_minor": 0
      },
      "text/plain": [
       "vocab.txt:   0%|          | 0.00/213k [00:00<?, ?B/s]"
      ]
     },
     "metadata": {},
     "output_type": "display_data"
    },
    {
     "data": {
      "application/vnd.jupyter.widget-view+json": {
       "model_id": "49d46c2ed1fc44779108341d21d39802",
       "version_major": 2,
       "version_minor": 0
      },
      "text/plain": [
       "tokenizer.json:   0%|          | 0.00/436k [00:00<?, ?B/s]"
      ]
     },
     "metadata": {},
     "output_type": "display_data"
    },
    {
     "name": "stderr",
     "output_type": "stream",
     "text": [
      "/root/micromamba/envs/adsp-nlp/lib/python3.11/site-packages/transformers/tokenization_utils_base.py:1601: FutureWarning: `clean_up_tokenization_spaces` was not set. It will be set to `True` by default. This behavior will be depracted in transformers v4.45, and will be then set to `False` by default. For more details check this issue: https://github.com/huggingface/transformers/issues/31884\n",
      "  warnings.warn(\n"
     ]
    }
   ],
   "source": [
    "tokenizer = AutoTokenizer.from_pretrained(model_ckpt)"
   ]
  },
  {
   "cell_type": "markdown",
   "id": "90ea881e-9cc9-44f3-b401-267acc4bdf91",
   "metadata": {
    "tags": []
   },
   "source": [
    "Because the text is already split into words, we use a special keyword argument, `is_split_into_words`, when calling the tokenizer. Remember that tokenization can lead to words being split into sub-words (this is especially true for BERT tokenizers). This is why we still need to pass the tokens through a tokenizer."
   ]
  },
  {
   "cell_type": "code",
   "execution_count": 12,
   "id": "9f8d8d20-b154-434d-b367-b1865dabd73c",
   "metadata": {
    "tags": []
   },
   "outputs": [
    {
     "data": {
      "text/plain": [
       "{'input_ids': [101, 137, 185, 18318, 13868, 1135, 112, 188, 1103, 2458, 1121, 1187, 146, 112, 182, 1690, 1111, 1160, 2277, 119, 2813, 1426, 4334, 134, 142, 19117, 119, 12004, 2213, 4162, 1303, 1314, 3440, 119, 102], 'attention_mask': [1, 1, 1, 1, 1, 1, 1, 1, 1, 1, 1, 1, 1, 1, 1, 1, 1, 1, 1, 1, 1, 1, 1, 1, 1, 1, 1, 1, 1, 1, 1, 1, 1, 1, 1]}"
      ]
     },
     "execution_count": 12,
     "metadata": {},
     "output_type": "execute_result"
    }
   ],
   "source": [
    "sample_text = wnut[\"train\"][0]\n",
    "\n",
    "tokenized_sample_text = tokenizer(sample_text[\"tokens\"], is_split_into_words=True)\n",
    "tokenized_sample_text"
   ]
  },
  {
   "cell_type": "code",
   "execution_count": 13,
   "id": "d19fbd2e-c274-406c-951a-e98485f22b52",
   "metadata": {
    "tags": []
   },
   "outputs": [
    {
     "name": "stdout",
     "output_type": "stream",
     "text": [
      "Raw tokens: ['@paulwalk', 'It', \"'s\", 'the', 'view', 'from', 'where', 'I', \"'m\", 'living', 'for', 'two', 'weeks', '.', 'Empire', 'State', 'Building', '=', 'ESB', '.', 'Pretty', 'bad', 'storm', 'here', 'last', 'evening', '.']\n",
      "Count: 27\n",
      "\n",
      "Tokenized tokens: ['[CLS]', '@', 'p', '##aul', '##walk', 'It', \"'\", 's', 'the', 'view', 'from', 'where', 'I', \"'\", 'm', 'living', 'for', 'two', 'weeks', '.', 'Empire', 'State', 'Building', '=', 'E', '##SB', '.', 'Pretty', 'bad', 'storm', 'here', 'last', 'evening', '.', '[SEP]']\n",
      "Count: 35\n"
     ]
    }
   ],
   "source": [
    "# printing original tokens as they exist in the data\n",
    "print(f\"Raw tokens: {sample_text['tokens']}\")\n",
    "print(f\"Count: {len(sample_text['tokens'])}\")\n",
    "print()\n",
    "\n",
    "# printing tokens after they have been passed through tokenizer\n",
    "subword_tokens = tokenizer.convert_ids_to_tokens(tokenized_sample_text['input_ids'])\n",
    "print(f\"Tokenized tokens: {subword_tokens}\")\n",
    "print(f\"Count: {len(subword_tokens)}\")"
   ]
  },
  {
   "cell_type": "markdown",
   "id": "cad8ab4f-5251-4097-b787-c400213aa78e",
   "metadata": {},
   "source": [
    "After tokenization, we can see that the word tokens have been split into subword tokens. Note the difference in length before and after tokenization. **This implies that our original labels aren't aligned anymore (which is why the tokenizer does not return the labels either in its output)**. We will re-align the labels by:\n",
    "1. Map subword tokens to their origin word token\n",
    "2. Assign the label to first subword token of a word, setting the rest to -100 (which PyTorch will ignore)\n",
    "3. Ignore the `[CLS]` and `[SEP]` tokens\n",
    "\n",
    "Documentation for PyTorch ignoring tokens labeled with -100: https://pytorch.org/docs/stable/generated/torch.nn.CrossEntropyLoss.html\n",
    "\n",
    "Point (2) is done because above is a design decision. We could choose to assign the word label to each sub-word token. Assigning only to the first subtoken is a common strategy, so we use it here."
   ]
  },
  {
   "cell_type": "markdown",
   "id": "cfe5befd-6a63-421d-9892-43e8add52e7b",
   "metadata": {
    "tags": []
   },
   "source": [
    "Huggingface tokenizers keep track of which word a subtoken belongs to via the `word_ids()` method."
   ]
  },
  {
   "cell_type": "code",
   "execution_count": 14,
   "id": "b0c12a8b-6c24-48e1-81ca-4264690eb6f0",
   "metadata": {
    "tags": []
   },
   "outputs": [
    {
     "data": {
      "text/plain": [
       "transformers.tokenization_utils_base.BatchEncoding"
      ]
     },
     "execution_count": 14,
     "metadata": {},
     "output_type": "execute_result"
    }
   ],
   "source": [
    "type(tokenized_sample_text)"
   ]
  },
  {
   "cell_type": "code",
   "execution_count": 15,
   "id": "108e9e64-824d-4d73-91fb-357da5d587d9",
   "metadata": {
    "tags": []
   },
   "outputs": [
    {
     "data": {
      "text/plain": [
       "[None,\n",
       " 0,\n",
       " 0,\n",
       " 0,\n",
       " 0,\n",
       " 1,\n",
       " 2,\n",
       " 2,\n",
       " 3,\n",
       " 4,\n",
       " 5,\n",
       " 6,\n",
       " 7,\n",
       " 8,\n",
       " 8,\n",
       " 9,\n",
       " 10,\n",
       " 11,\n",
       " 12,\n",
       " 13,\n",
       " 14,\n",
       " 15,\n",
       " 16,\n",
       " 17,\n",
       " 18,\n",
       " 18,\n",
       " 19,\n",
       " 20,\n",
       " 21,\n",
       " 22,\n",
       " 23,\n",
       " 24,\n",
       " 25,\n",
       " 26,\n",
       " None]"
      ]
     },
     "execution_count": 15,
     "metadata": {},
     "output_type": "execute_result"
    }
   ],
   "source": [
    "tokenized_sample_text.word_ids()"
   ]
  },
  {
   "cell_type": "markdown",
   "id": "0d855bff-88ad-49b6-9fae-ed51157795df",
   "metadata": {},
   "source": [
    "Below, we create a dataframe to demonstrate how we can map tokenized text to word id to original word."
   ]
  },
  {
   "cell_type": "code",
   "execution_count": 16,
   "id": "8977c0c0-d69e-47eb-859e-16a1831816d7",
   "metadata": {
    "tags": []
   },
   "outputs": [
    {
     "data": {
      "text/html": [
       "<div>\n",
       "<style scoped>\n",
       "    .dataframe tbody tr th:only-of-type {\n",
       "        vertical-align: middle;\n",
       "    }\n",
       "\n",
       "    .dataframe tbody tr th {\n",
       "        vertical-align: top;\n",
       "    }\n",
       "\n",
       "    .dataframe thead th {\n",
       "        text-align: right;\n",
       "    }\n",
       "</style>\n",
       "<table border=\"1\" class=\"dataframe\">\n",
       "  <thead>\n",
       "    <tr style=\"text-align: right;\">\n",
       "      <th></th>\n",
       "      <th>subword_token</th>\n",
       "      <th>word_id</th>\n",
       "      <th>word</th>\n",
       "    </tr>\n",
       "  </thead>\n",
       "  <tbody>\n",
       "    <tr>\n",
       "      <th>0</th>\n",
       "      <td>[CLS]</td>\n",
       "      <td>NaN</td>\n",
       "      <td>None</td>\n",
       "    </tr>\n",
       "    <tr>\n",
       "      <th>1</th>\n",
       "      <td>@</td>\n",
       "      <td>0.0</td>\n",
       "      <td>@paulwalk</td>\n",
       "    </tr>\n",
       "    <tr>\n",
       "      <th>2</th>\n",
       "      <td>p</td>\n",
       "      <td>0.0</td>\n",
       "      <td>@paulwalk</td>\n",
       "    </tr>\n",
       "    <tr>\n",
       "      <th>3</th>\n",
       "      <td>##aul</td>\n",
       "      <td>0.0</td>\n",
       "      <td>@paulwalk</td>\n",
       "    </tr>\n",
       "    <tr>\n",
       "      <th>4</th>\n",
       "      <td>##walk</td>\n",
       "      <td>0.0</td>\n",
       "      <td>@paulwalk</td>\n",
       "    </tr>\n",
       "    <tr>\n",
       "      <th>5</th>\n",
       "      <td>It</td>\n",
       "      <td>1.0</td>\n",
       "      <td>It</td>\n",
       "    </tr>\n",
       "    <tr>\n",
       "      <th>6</th>\n",
       "      <td>'</td>\n",
       "      <td>2.0</td>\n",
       "      <td>'s</td>\n",
       "    </tr>\n",
       "    <tr>\n",
       "      <th>7</th>\n",
       "      <td>s</td>\n",
       "      <td>2.0</td>\n",
       "      <td>'s</td>\n",
       "    </tr>\n",
       "    <tr>\n",
       "      <th>8</th>\n",
       "      <td>the</td>\n",
       "      <td>3.0</td>\n",
       "      <td>the</td>\n",
       "    </tr>\n",
       "    <tr>\n",
       "      <th>9</th>\n",
       "      <td>view</td>\n",
       "      <td>4.0</td>\n",
       "      <td>view</td>\n",
       "    </tr>\n",
       "    <tr>\n",
       "      <th>10</th>\n",
       "      <td>from</td>\n",
       "      <td>5.0</td>\n",
       "      <td>from</td>\n",
       "    </tr>\n",
       "    <tr>\n",
       "      <th>11</th>\n",
       "      <td>where</td>\n",
       "      <td>6.0</td>\n",
       "      <td>where</td>\n",
       "    </tr>\n",
       "    <tr>\n",
       "      <th>12</th>\n",
       "      <td>I</td>\n",
       "      <td>7.0</td>\n",
       "      <td>I</td>\n",
       "    </tr>\n",
       "    <tr>\n",
       "      <th>13</th>\n",
       "      <td>'</td>\n",
       "      <td>8.0</td>\n",
       "      <td>'m</td>\n",
       "    </tr>\n",
       "    <tr>\n",
       "      <th>14</th>\n",
       "      <td>m</td>\n",
       "      <td>8.0</td>\n",
       "      <td>'m</td>\n",
       "    </tr>\n",
       "    <tr>\n",
       "      <th>15</th>\n",
       "      <td>living</td>\n",
       "      <td>9.0</td>\n",
       "      <td>living</td>\n",
       "    </tr>\n",
       "    <tr>\n",
       "      <th>16</th>\n",
       "      <td>for</td>\n",
       "      <td>10.0</td>\n",
       "      <td>for</td>\n",
       "    </tr>\n",
       "    <tr>\n",
       "      <th>17</th>\n",
       "      <td>two</td>\n",
       "      <td>11.0</td>\n",
       "      <td>two</td>\n",
       "    </tr>\n",
       "    <tr>\n",
       "      <th>18</th>\n",
       "      <td>weeks</td>\n",
       "      <td>12.0</td>\n",
       "      <td>weeks</td>\n",
       "    </tr>\n",
       "    <tr>\n",
       "      <th>19</th>\n",
       "      <td>.</td>\n",
       "      <td>13.0</td>\n",
       "      <td>.</td>\n",
       "    </tr>\n",
       "    <tr>\n",
       "      <th>20</th>\n",
       "      <td>Empire</td>\n",
       "      <td>14.0</td>\n",
       "      <td>Empire</td>\n",
       "    </tr>\n",
       "    <tr>\n",
       "      <th>21</th>\n",
       "      <td>State</td>\n",
       "      <td>15.0</td>\n",
       "      <td>State</td>\n",
       "    </tr>\n",
       "    <tr>\n",
       "      <th>22</th>\n",
       "      <td>Building</td>\n",
       "      <td>16.0</td>\n",
       "      <td>Building</td>\n",
       "    </tr>\n",
       "    <tr>\n",
       "      <th>23</th>\n",
       "      <td>=</td>\n",
       "      <td>17.0</td>\n",
       "      <td>=</td>\n",
       "    </tr>\n",
       "    <tr>\n",
       "      <th>24</th>\n",
       "      <td>E</td>\n",
       "      <td>18.0</td>\n",
       "      <td>ESB</td>\n",
       "    </tr>\n",
       "    <tr>\n",
       "      <th>25</th>\n",
       "      <td>##SB</td>\n",
       "      <td>18.0</td>\n",
       "      <td>ESB</td>\n",
       "    </tr>\n",
       "    <tr>\n",
       "      <th>26</th>\n",
       "      <td>.</td>\n",
       "      <td>19.0</td>\n",
       "      <td>.</td>\n",
       "    </tr>\n",
       "    <tr>\n",
       "      <th>27</th>\n",
       "      <td>Pretty</td>\n",
       "      <td>20.0</td>\n",
       "      <td>Pretty</td>\n",
       "    </tr>\n",
       "    <tr>\n",
       "      <th>28</th>\n",
       "      <td>bad</td>\n",
       "      <td>21.0</td>\n",
       "      <td>bad</td>\n",
       "    </tr>\n",
       "    <tr>\n",
       "      <th>29</th>\n",
       "      <td>storm</td>\n",
       "      <td>22.0</td>\n",
       "      <td>storm</td>\n",
       "    </tr>\n",
       "    <tr>\n",
       "      <th>30</th>\n",
       "      <td>here</td>\n",
       "      <td>23.0</td>\n",
       "      <td>here</td>\n",
       "    </tr>\n",
       "    <tr>\n",
       "      <th>31</th>\n",
       "      <td>last</td>\n",
       "      <td>24.0</td>\n",
       "      <td>last</td>\n",
       "    </tr>\n",
       "    <tr>\n",
       "      <th>32</th>\n",
       "      <td>evening</td>\n",
       "      <td>25.0</td>\n",
       "      <td>evening</td>\n",
       "    </tr>\n",
       "    <tr>\n",
       "      <th>33</th>\n",
       "      <td>.</td>\n",
       "      <td>26.0</td>\n",
       "      <td>.</td>\n",
       "    </tr>\n",
       "    <tr>\n",
       "      <th>34</th>\n",
       "      <td>[SEP]</td>\n",
       "      <td>NaN</td>\n",
       "      <td>None</td>\n",
       "    </tr>\n",
       "  </tbody>\n",
       "</table>\n",
       "</div>"
      ],
      "text/plain": [
       "   subword_token  word_id       word\n",
       "0          [CLS]      NaN       None\n",
       "1              @      0.0  @paulwalk\n",
       "2              p      0.0  @paulwalk\n",
       "3          ##aul      0.0  @paulwalk\n",
       "4         ##walk      0.0  @paulwalk\n",
       "5             It      1.0         It\n",
       "6              '      2.0         's\n",
       "7              s      2.0         's\n",
       "8            the      3.0        the\n",
       "9           view      4.0       view\n",
       "10          from      5.0       from\n",
       "11         where      6.0      where\n",
       "12             I      7.0          I\n",
       "13             '      8.0         'm\n",
       "14             m      8.0         'm\n",
       "15        living      9.0     living\n",
       "16           for     10.0        for\n",
       "17           two     11.0        two\n",
       "18         weeks     12.0      weeks\n",
       "19             .     13.0          .\n",
       "20        Empire     14.0     Empire\n",
       "21         State     15.0      State\n",
       "22      Building     16.0   Building\n",
       "23             =     17.0          =\n",
       "24             E     18.0        ESB\n",
       "25          ##SB     18.0        ESB\n",
       "26             .     19.0          .\n",
       "27        Pretty     20.0     Pretty\n",
       "28           bad     21.0        bad\n",
       "29         storm     22.0      storm\n",
       "30          here     23.0       here\n",
       "31          last     24.0       last\n",
       "32       evening     25.0    evening\n",
       "33             .     26.0          .\n",
       "34         [SEP]      NaN       None"
      ]
     },
     "execution_count": 16,
     "metadata": {},
     "output_type": "execute_result"
    }
   ],
   "source": [
    "# displaying alignment between tokenized words, word ids and the original word\n",
    "pd.DataFrame(\n",
    "    data=zip(subword_tokens, tokenized_sample_text.word_ids()),\n",
    "    columns=[\"subword_token\", \"word_id\"]\n",
    ").assign(\n",
    "    word=[None if word_id is None else sample_text['tokens'][word_id] for word_id in tokenized_sample_text.word_ids()]\n",
    ")"
   ]
  },
  {
   "cell_type": "code",
   "execution_count": 17,
   "id": "b76261c5-9810-4bef-9dde-14f9076f43f5",
   "metadata": {
    "tags": []
   },
   "outputs": [],
   "source": [
    "def tokenize_and_align_labels(batch):\n",
    "    \n",
    "    # tokenizing the input tokens and truncating the examples that are too long\n",
    "    tokenized_inputs = tokenizer(batch[\"tokens\"], truncation=True, is_split_into_words=True)\n",
    "    \n",
    "    # container to store the re-aligned labels\n",
    "    labels = []\n",
    "    \n",
    "    for example_idx, example_labels in enumerate(batch[\"ner_tags\"]):\n",
    "        word_ids = tokenized_inputs.word_ids(batch_index=example_idx) # want to specify which example in the batch we are getting ids for\n",
    "        previous_word_id = None\n",
    "        label_ids = []\n",
    "        \n",
    "        for word_id in word_ids:\n",
    "            \n",
    "            # special tokens set to -100\n",
    "            if word_id is None:\n",
    "                label_ids.append(-100)\n",
    "                \n",
    "            # when current word id is different than previous word id, we are at the beginning of a new word and we store the label \n",
    "            elif word_id != previous_word_id:\n",
    "                label_ids.append(example_labels[word_id])\n",
    "                \n",
    "            # subsequent subword tokens get ignored\n",
    "            else:\n",
    "                label_ids.append(-100)\n",
    "                \n",
    "            previous_word_id = word_id\n",
    "            \n",
    "        labels.append(label_ids)\n",
    "    \n",
    "    # adding the labels as a column to the tokenized inputs\n",
    "    tokenized_inputs[\"labels\"] = labels\n",
    "    \n",
    "    return tokenized_inputs"
   ]
  },
  {
   "cell_type": "code",
   "execution_count": 18,
   "id": "dc8875aa-e72c-427f-984b-c6e6b1bff68c",
   "metadata": {
    "tags": []
   },
   "outputs": [
    {
     "data": {
      "application/vnd.jupyter.widget-view+json": {
       "model_id": "f56e80322d19444586479f5d1e715c91",
       "version_major": 2,
       "version_minor": 0
      },
      "text/plain": [
       "Map:   0%|          | 0/3394 [00:00<?, ? examples/s]"
      ]
     },
     "metadata": {},
     "output_type": "display_data"
    },
    {
     "data": {
      "application/vnd.jupyter.widget-view+json": {
       "model_id": "af2ba6fda8b84329b64e9904ba50fc46",
       "version_major": 2,
       "version_minor": 0
      },
      "text/plain": [
       "Map:   0%|          | 0/1009 [00:00<?, ? examples/s]"
      ]
     },
     "metadata": {},
     "output_type": "display_data"
    },
    {
     "data": {
      "application/vnd.jupyter.widget-view+json": {
       "model_id": "7d716b2ba8c2450396e325fb77e29840",
       "version_major": 2,
       "version_minor": 0
      },
      "text/plain": [
       "Map:   0%|          | 0/1287 [00:00<?, ? examples/s]"
      ]
     },
     "metadata": {},
     "output_type": "display_data"
    }
   ],
   "source": [
    "wnut_tokenized = wnut.map(tokenize_and_align_labels, batched=True, remove_columns=[\"id\", \"tokens\", \"ner_tags\"])"
   ]
  },
  {
   "cell_type": "code",
   "execution_count": 19,
   "id": "0cda0398-75cc-44d0-b67b-ea897701c26c",
   "metadata": {
    "tags": []
   },
   "outputs": [
    {
     "data": {
      "text/plain": [
       "{'input_ids': [101,\n",
       "  137,\n",
       "  185,\n",
       "  18318,\n",
       "  13868,\n",
       "  1135,\n",
       "  112,\n",
       "  188,\n",
       "  1103,\n",
       "  2458,\n",
       "  1121,\n",
       "  1187,\n",
       "  146,\n",
       "  112,\n",
       "  182,\n",
       "  1690,\n",
       "  1111,\n",
       "  1160,\n",
       "  2277,\n",
       "  119,\n",
       "  2813,\n",
       "  1426,\n",
       "  4334,\n",
       "  134,\n",
       "  142,\n",
       "  19117,\n",
       "  119,\n",
       "  12004,\n",
       "  2213,\n",
       "  4162,\n",
       "  1303,\n",
       "  1314,\n",
       "  3440,\n",
       "  119,\n",
       "  102],\n",
       " 'attention_mask': [1,\n",
       "  1,\n",
       "  1,\n",
       "  1,\n",
       "  1,\n",
       "  1,\n",
       "  1,\n",
       "  1,\n",
       "  1,\n",
       "  1,\n",
       "  1,\n",
       "  1,\n",
       "  1,\n",
       "  1,\n",
       "  1,\n",
       "  1,\n",
       "  1,\n",
       "  1,\n",
       "  1,\n",
       "  1,\n",
       "  1,\n",
       "  1,\n",
       "  1,\n",
       "  1,\n",
       "  1,\n",
       "  1,\n",
       "  1,\n",
       "  1,\n",
       "  1,\n",
       "  1,\n",
       "  1,\n",
       "  1,\n",
       "  1,\n",
       "  1,\n",
       "  1],\n",
       " 'labels': [-100,\n",
       "  0,\n",
       "  -100,\n",
       "  -100,\n",
       "  -100,\n",
       "  0,\n",
       "  0,\n",
       "  -100,\n",
       "  0,\n",
       "  0,\n",
       "  0,\n",
       "  0,\n",
       "  0,\n",
       "  0,\n",
       "  -100,\n",
       "  0,\n",
       "  0,\n",
       "  0,\n",
       "  0,\n",
       "  0,\n",
       "  7,\n",
       "  8,\n",
       "  8,\n",
       "  0,\n",
       "  7,\n",
       "  -100,\n",
       "  0,\n",
       "  0,\n",
       "  0,\n",
       "  0,\n",
       "  0,\n",
       "  0,\n",
       "  0,\n",
       "  0,\n",
       "  -100]}"
      ]
     },
     "execution_count": 19,
     "metadata": {},
     "output_type": "execute_result"
    }
   ],
   "source": [
    "wnut_tokenized[\"train\"][0]"
   ]
  },
  {
   "cell_type": "code",
   "execution_count": 20,
   "id": "620a5e7d-7c68-48a0-ac01-881f6cb781d1",
   "metadata": {
    "tags": []
   },
   "outputs": [
    {
     "data": {
      "text/plain": [
       "DatasetDict({\n",
       "    train: Dataset({\n",
       "        features: ['input_ids', 'attention_mask', 'labels'],\n",
       "        num_rows: 3394\n",
       "    })\n",
       "    validation: Dataset({\n",
       "        features: ['input_ids', 'attention_mask', 'labels'],\n",
       "        num_rows: 1009\n",
       "    })\n",
       "    test: Dataset({\n",
       "        features: ['input_ids', 'attention_mask', 'labels'],\n",
       "        num_rows: 1287\n",
       "    })\n",
       "})"
      ]
     },
     "execution_count": 20,
     "metadata": {},
     "output_type": "execute_result"
    }
   ],
   "source": [
    "wnut_tokenized"
   ]
  },
  {
   "cell_type": "markdown",
   "id": "185526bd-e6c2-477d-91d5-46a29859264c",
   "metadata": {
    "tags": []
   },
   "source": [
    "Below, we can see that we are using -100 as a way to ignore tokens for two reasons:\n",
    "\n",
    "1. They are special tokens: `[CLS]` and `[SEP]`\n",
    "2. For every subtoken that's not the first subtoken for a given word"
   ]
  },
  {
   "cell_type": "code",
   "execution_count": 21,
   "id": "977e9c2c-dadf-40c8-bfbb-8e9c9f00c715",
   "metadata": {
    "tags": []
   },
   "outputs": [
    {
     "data": {
      "text/html": [
       "<div>\n",
       "<style scoped>\n",
       "    .dataframe tbody tr th:only-of-type {\n",
       "        vertical-align: middle;\n",
       "    }\n",
       "\n",
       "    .dataframe tbody tr th {\n",
       "        vertical-align: top;\n",
       "    }\n",
       "\n",
       "    .dataframe thead th {\n",
       "        text-align: right;\n",
       "    }\n",
       "</style>\n",
       "<table border=\"1\" class=\"dataframe\">\n",
       "  <thead>\n",
       "    <tr style=\"text-align: right;\">\n",
       "      <th></th>\n",
       "      <th>subword_tokens</th>\n",
       "      <th>labels</th>\n",
       "      <th>word_ids</th>\n",
       "      <th>label_name</th>\n",
       "    </tr>\n",
       "  </thead>\n",
       "  <tbody>\n",
       "    <tr>\n",
       "      <th>0</th>\n",
       "      <td>[CLS]</td>\n",
       "      <td>-100</td>\n",
       "      <td>NaN</td>\n",
       "      <td>-100</td>\n",
       "    </tr>\n",
       "    <tr>\n",
       "      <th>1</th>\n",
       "      <td>@</td>\n",
       "      <td>0</td>\n",
       "      <td>0.0</td>\n",
       "      <td>O</td>\n",
       "    </tr>\n",
       "    <tr>\n",
       "      <th>2</th>\n",
       "      <td>p</td>\n",
       "      <td>-100</td>\n",
       "      <td>0.0</td>\n",
       "      <td>-100</td>\n",
       "    </tr>\n",
       "    <tr>\n",
       "      <th>3</th>\n",
       "      <td>##aul</td>\n",
       "      <td>-100</td>\n",
       "      <td>0.0</td>\n",
       "      <td>-100</td>\n",
       "    </tr>\n",
       "    <tr>\n",
       "      <th>4</th>\n",
       "      <td>##walk</td>\n",
       "      <td>-100</td>\n",
       "      <td>0.0</td>\n",
       "      <td>-100</td>\n",
       "    </tr>\n",
       "    <tr>\n",
       "      <th>5</th>\n",
       "      <td>It</td>\n",
       "      <td>0</td>\n",
       "      <td>1.0</td>\n",
       "      <td>O</td>\n",
       "    </tr>\n",
       "    <tr>\n",
       "      <th>6</th>\n",
       "      <td>'</td>\n",
       "      <td>0</td>\n",
       "      <td>2.0</td>\n",
       "      <td>O</td>\n",
       "    </tr>\n",
       "    <tr>\n",
       "      <th>7</th>\n",
       "      <td>s</td>\n",
       "      <td>-100</td>\n",
       "      <td>2.0</td>\n",
       "      <td>-100</td>\n",
       "    </tr>\n",
       "    <tr>\n",
       "      <th>8</th>\n",
       "      <td>the</td>\n",
       "      <td>0</td>\n",
       "      <td>3.0</td>\n",
       "      <td>O</td>\n",
       "    </tr>\n",
       "    <tr>\n",
       "      <th>9</th>\n",
       "      <td>view</td>\n",
       "      <td>0</td>\n",
       "      <td>4.0</td>\n",
       "      <td>O</td>\n",
       "    </tr>\n",
       "    <tr>\n",
       "      <th>10</th>\n",
       "      <td>from</td>\n",
       "      <td>0</td>\n",
       "      <td>5.0</td>\n",
       "      <td>O</td>\n",
       "    </tr>\n",
       "    <tr>\n",
       "      <th>11</th>\n",
       "      <td>where</td>\n",
       "      <td>0</td>\n",
       "      <td>6.0</td>\n",
       "      <td>O</td>\n",
       "    </tr>\n",
       "    <tr>\n",
       "      <th>12</th>\n",
       "      <td>I</td>\n",
       "      <td>0</td>\n",
       "      <td>7.0</td>\n",
       "      <td>O</td>\n",
       "    </tr>\n",
       "    <tr>\n",
       "      <th>13</th>\n",
       "      <td>'</td>\n",
       "      <td>0</td>\n",
       "      <td>8.0</td>\n",
       "      <td>O</td>\n",
       "    </tr>\n",
       "    <tr>\n",
       "      <th>14</th>\n",
       "      <td>m</td>\n",
       "      <td>-100</td>\n",
       "      <td>8.0</td>\n",
       "      <td>-100</td>\n",
       "    </tr>\n",
       "    <tr>\n",
       "      <th>15</th>\n",
       "      <td>living</td>\n",
       "      <td>0</td>\n",
       "      <td>9.0</td>\n",
       "      <td>O</td>\n",
       "    </tr>\n",
       "    <tr>\n",
       "      <th>16</th>\n",
       "      <td>for</td>\n",
       "      <td>0</td>\n",
       "      <td>10.0</td>\n",
       "      <td>O</td>\n",
       "    </tr>\n",
       "    <tr>\n",
       "      <th>17</th>\n",
       "      <td>two</td>\n",
       "      <td>0</td>\n",
       "      <td>11.0</td>\n",
       "      <td>O</td>\n",
       "    </tr>\n",
       "    <tr>\n",
       "      <th>18</th>\n",
       "      <td>weeks</td>\n",
       "      <td>0</td>\n",
       "      <td>12.0</td>\n",
       "      <td>O</td>\n",
       "    </tr>\n",
       "    <tr>\n",
       "      <th>19</th>\n",
       "      <td>.</td>\n",
       "      <td>0</td>\n",
       "      <td>13.0</td>\n",
       "      <td>O</td>\n",
       "    </tr>\n",
       "    <tr>\n",
       "      <th>20</th>\n",
       "      <td>Empire</td>\n",
       "      <td>7</td>\n",
       "      <td>14.0</td>\n",
       "      <td>B-location</td>\n",
       "    </tr>\n",
       "    <tr>\n",
       "      <th>21</th>\n",
       "      <td>State</td>\n",
       "      <td>8</td>\n",
       "      <td>15.0</td>\n",
       "      <td>I-location</td>\n",
       "    </tr>\n",
       "    <tr>\n",
       "      <th>22</th>\n",
       "      <td>Building</td>\n",
       "      <td>8</td>\n",
       "      <td>16.0</td>\n",
       "      <td>I-location</td>\n",
       "    </tr>\n",
       "    <tr>\n",
       "      <th>23</th>\n",
       "      <td>=</td>\n",
       "      <td>0</td>\n",
       "      <td>17.0</td>\n",
       "      <td>O</td>\n",
       "    </tr>\n",
       "    <tr>\n",
       "      <th>24</th>\n",
       "      <td>E</td>\n",
       "      <td>7</td>\n",
       "      <td>18.0</td>\n",
       "      <td>B-location</td>\n",
       "    </tr>\n",
       "    <tr>\n",
       "      <th>25</th>\n",
       "      <td>##SB</td>\n",
       "      <td>-100</td>\n",
       "      <td>18.0</td>\n",
       "      <td>-100</td>\n",
       "    </tr>\n",
       "    <tr>\n",
       "      <th>26</th>\n",
       "      <td>.</td>\n",
       "      <td>0</td>\n",
       "      <td>19.0</td>\n",
       "      <td>O</td>\n",
       "    </tr>\n",
       "    <tr>\n",
       "      <th>27</th>\n",
       "      <td>Pretty</td>\n",
       "      <td>0</td>\n",
       "      <td>20.0</td>\n",
       "      <td>O</td>\n",
       "    </tr>\n",
       "    <tr>\n",
       "      <th>28</th>\n",
       "      <td>bad</td>\n",
       "      <td>0</td>\n",
       "      <td>21.0</td>\n",
       "      <td>O</td>\n",
       "    </tr>\n",
       "    <tr>\n",
       "      <th>29</th>\n",
       "      <td>storm</td>\n",
       "      <td>0</td>\n",
       "      <td>22.0</td>\n",
       "      <td>O</td>\n",
       "    </tr>\n",
       "    <tr>\n",
       "      <th>30</th>\n",
       "      <td>here</td>\n",
       "      <td>0</td>\n",
       "      <td>23.0</td>\n",
       "      <td>O</td>\n",
       "    </tr>\n",
       "    <tr>\n",
       "      <th>31</th>\n",
       "      <td>last</td>\n",
       "      <td>0</td>\n",
       "      <td>24.0</td>\n",
       "      <td>O</td>\n",
       "    </tr>\n",
       "    <tr>\n",
       "      <th>32</th>\n",
       "      <td>evening</td>\n",
       "      <td>0</td>\n",
       "      <td>25.0</td>\n",
       "      <td>O</td>\n",
       "    </tr>\n",
       "    <tr>\n",
       "      <th>33</th>\n",
       "      <td>.</td>\n",
       "      <td>0</td>\n",
       "      <td>26.0</td>\n",
       "      <td>O</td>\n",
       "    </tr>\n",
       "    <tr>\n",
       "      <th>34</th>\n",
       "      <td>[SEP]</td>\n",
       "      <td>-100</td>\n",
       "      <td>NaN</td>\n",
       "      <td>-100</td>\n",
       "    </tr>\n",
       "  </tbody>\n",
       "</table>\n",
       "</div>"
      ],
      "text/plain": [
       "   subword_tokens  labels  word_ids  label_name\n",
       "0           [CLS]    -100       NaN        -100\n",
       "1               @       0       0.0           O\n",
       "2               p    -100       0.0        -100\n",
       "3           ##aul    -100       0.0        -100\n",
       "4          ##walk    -100       0.0        -100\n",
       "5              It       0       1.0           O\n",
       "6               '       0       2.0           O\n",
       "7               s    -100       2.0        -100\n",
       "8             the       0       3.0           O\n",
       "9            view       0       4.0           O\n",
       "10           from       0       5.0           O\n",
       "11          where       0       6.0           O\n",
       "12              I       0       7.0           O\n",
       "13              '       0       8.0           O\n",
       "14              m    -100       8.0        -100\n",
       "15         living       0       9.0           O\n",
       "16            for       0      10.0           O\n",
       "17            two       0      11.0           O\n",
       "18          weeks       0      12.0           O\n",
       "19              .       0      13.0           O\n",
       "20         Empire       7      14.0  B-location\n",
       "21          State       8      15.0  I-location\n",
       "22       Building       8      16.0  I-location\n",
       "23              =       0      17.0           O\n",
       "24              E       7      18.0  B-location\n",
       "25           ##SB    -100      18.0        -100\n",
       "26              .       0      19.0           O\n",
       "27         Pretty       0      20.0           O\n",
       "28            bad       0      21.0           O\n",
       "29          storm       0      22.0           O\n",
       "30           here       0      23.0           O\n",
       "31           last       0      24.0           O\n",
       "32        evening       0      25.0           O\n",
       "33              .       0      26.0           O\n",
       "34          [SEP]    -100       NaN        -100"
      ]
     },
     "execution_count": 21,
     "metadata": {},
     "output_type": "execute_result"
    }
   ],
   "source": [
    "sample = (\n",
    "    pd.DataFrame(\n",
    "        data=zip(\n",
    "            subword_tokens,\n",
    "            wnut_tokenized[\"train\"][\"labels\"][0],\n",
    "            tokenized_sample_text.word_ids(),\n",
    "        ),\n",
    "        columns=[\"subword_tokens\", \"labels\", \"word_ids\"]\n",
    "    )\n",
    ")\n",
    "\n",
    "sample[\"label_name\"] = [-100 if val == -100 else label_names[val] for val in sample[\"labels\"]]\n",
    "sample"
   ]
  },
  {
   "cell_type": "markdown",
   "id": "9f6f5725-0471-49ba-9d11-6bfec42b0285",
   "metadata": {
    "tags": []
   },
   "source": [
    "Now that our data has been tokenized, we want to create a collator to dynamically pad our data. We use the `DataCollatorForTokenClassification` to do this. Since each token has its own label in token classification tasks, this particular collator ensures that the labels are aligned with the padded tokens, using -100 by default (which is ignore in loss computation in PyTorch)"
   ]
  },
  {
   "cell_type": "code",
   "execution_count": 22,
   "id": "07b7bc28-3fc0-4978-9246-a719e4c321b2",
   "metadata": {
    "tags": []
   },
   "outputs": [],
   "source": [
    "data_collator = DataCollatorForTokenClassification(tokenizer=tokenizer)"
   ]
  },
  {
   "cell_type": "markdown",
   "id": "d86e396b-f859-48f0-8e9d-291ecb0807eb",
   "metadata": {
    "tags": []
   },
   "source": [
    "We now load the evaluation metrics and create a function that will be used by the Transformer `Trainer` object during training to evaluate the model performance. Per the documentation, https://huggingface.co/docs/transformers/en/main_classes/trainer, the function must take an `EvalPrediction` object, which is a tuple of logits and labels."
   ]
  },
  {
   "cell_type": "code",
   "execution_count": 23,
   "id": "286bca3c-2a3e-46e9-b2f9-a660e86e4f13",
   "metadata": {
    "tags": []
   },
   "outputs": [
    {
     "data": {
      "application/vnd.jupyter.widget-view+json": {
       "model_id": "6cf597206d1a4d5eb62943f9112b3b3b",
       "version_major": 2,
       "version_minor": 0
      },
      "text/plain": [
       "Downloading builder script:   0%|          | 0.00/6.34k [00:00<?, ?B/s]"
      ]
     },
     "metadata": {},
     "output_type": "display_data"
    }
   ],
   "source": [
    "seqeval = evaluate.load(\"seqeval\")"
   ]
  },
  {
   "cell_type": "code",
   "execution_count": 24,
   "id": "4062e1a7-11d0-4ebf-8f91-48cc778daeba",
   "metadata": {
    "tags": []
   },
   "outputs": [],
   "source": [
    "def compute_metrics(eval_preds):\n",
    "    \n",
    "    # unpacking the EvalPrediction output\n",
    "    logits, labels = eval_preds\n",
    "    \n",
    "    # the largest logit is the prediction\n",
    "    # note the dimensions with which we are taking the max\n",
    "    # the output dimensions will be (batch_size, sequence_length, num_labels)\n",
    "    # -1 means we want to find the arg max of the of the dimesnion that contains the labels\n",
    "    predictions = np.argmax(logits, axis=-1)\n",
    "    # print(logits.shape, predictions.shape, labels.shape)\n",
    "\n",
    "    # process predictions to filter out ignored labels (-100)\n",
    "    preds = []\n",
    "    for prediction, label in zip(predictions, labels):\n",
    "        filtered_preds = [label_names[p] for p, l in zip(prediction, label) if l != -100]\n",
    "        preds.append(filtered_preds)\n",
    "        \n",
    "    # process reference labels to filter out ignored labels (-100)\n",
    "    refs = []\n",
    "    for label in labels:\n",
    "        filtered_refs = [label_names[l] for l in label if l != -100]\n",
    "        refs.append(filtered_refs)\n",
    "\n",
    "    results = seqeval.compute(predictions=preds, references=refs)\n",
    "    return {\n",
    "        \"precision\": results[\"overall_precision\"],\n",
    "        \"recall\": results[\"overall_recall\"],\n",
    "        \"f1\": results[\"overall_f1\"],\n",
    "        \"accuracy\": results[\"overall_accuracy\"],\n",
    "    }"
   ]
  },
  {
   "cell_type": "code",
   "execution_count": 25,
   "id": "c03b7ef7-8473-42c1-9feb-4220b36134ff",
   "metadata": {
    "tags": []
   },
   "outputs": [],
   "source": [
    "idx2label = dict(enumerate(label_names))\n",
    "label2idx = {v: k for k, v in idx2label.items()}"
   ]
  },
  {
   "cell_type": "code",
   "execution_count": 26,
   "id": "cdff5297-e1d4-4e48-879e-ebe86acf1537",
   "metadata": {
    "tags": []
   },
   "outputs": [
    {
     "data": {
      "text/plain": [
       "{0: 'O',\n",
       " 1: 'B-corporation',\n",
       " 2: 'I-corporation',\n",
       " 3: 'B-creative-work',\n",
       " 4: 'I-creative-work',\n",
       " 5: 'B-group',\n",
       " 6: 'I-group',\n",
       " 7: 'B-location',\n",
       " 8: 'I-location',\n",
       " 9: 'B-person',\n",
       " 10: 'I-person',\n",
       " 11: 'B-product',\n",
       " 12: 'I-product'}"
      ]
     },
     "execution_count": 26,
     "metadata": {},
     "output_type": "execute_result"
    }
   ],
   "source": [
    "idx2label"
   ]
  },
  {
   "cell_type": "code",
   "execution_count": 27,
   "id": "04795374-e456-43ec-87f5-de9760cb6d57",
   "metadata": {
    "tags": []
   },
   "outputs": [
    {
     "data": {
      "text/plain": [
       "{'O': 0,\n",
       " 'B-corporation': 1,\n",
       " 'I-corporation': 2,\n",
       " 'B-creative-work': 3,\n",
       " 'I-creative-work': 4,\n",
       " 'B-group': 5,\n",
       " 'I-group': 6,\n",
       " 'B-location': 7,\n",
       " 'I-location': 8,\n",
       " 'B-person': 9,\n",
       " 'I-person': 10,\n",
       " 'B-product': 11,\n",
       " 'I-product': 12}"
      ]
     },
     "execution_count": 27,
     "metadata": {},
     "output_type": "execute_result"
    }
   ],
   "source": [
    "label2idx"
   ]
  },
  {
   "cell_type": "markdown",
   "id": "09969045-e410-4dfa-8bd1-3f510268349b",
   "metadata": {},
   "source": [
    "The `AutoModelForTokenClassification` task adds a task specific head to the underlying transformer model. In this case, that task is token classification."
   ]
  },
  {
   "cell_type": "code",
   "execution_count": 28,
   "id": "a9419cca-741d-49a5-8d4c-48b080236599",
   "metadata": {
    "tags": []
   },
   "outputs": [
    {
     "data": {
      "application/vnd.jupyter.widget-view+json": {
       "model_id": "95e49d6a6ece4a049eba40b9b12d3c71",
       "version_major": 2,
       "version_minor": 0
      },
      "text/plain": [
       "model.safetensors:   0%|          | 0.00/263M [00:00<?, ?B/s]"
      ]
     },
     "metadata": {},
     "output_type": "display_data"
    },
    {
     "name": "stderr",
     "output_type": "stream",
     "text": [
      "Some weights of DistilBertForTokenClassification were not initialized from the model checkpoint at distilbert-base-cased and are newly initialized: ['classifier.bias', 'classifier.weight']\n",
      "You should probably TRAIN this model on a down-stream task to be able to use it for predictions and inference.\n"
     ]
    }
   ],
   "source": [
    "model = AutoModelForTokenClassification.from_pretrained(model_ckpt, num_labels=len(idx2label), id2label=idx2label, label2id=label2idx)"
   ]
  },
  {
   "cell_type": "code",
   "execution_count": 30,
   "id": "e37c481a-1e97-4396-91ff-6ca89c0b8866",
   "metadata": {
    "tags": []
   },
   "outputs": [],
   "source": [
    "training_args = TrainingArguments(\n",
    "    output_dir=f\"{model_ckpt}-finetuned-ner-1\",\n",
    "    learning_rate=2e-5,\n",
    "    per_device_train_batch_size=16,\n",
    "    per_device_eval_batch_size=16,\n",
    "    num_train_epochs=2,\n",
    "    weight_decay=0.01,\n",
    "    eval_strategy=\"epoch\",\n",
    "    save_strategy=\"epoch\",\n",
    "    push_to_hub=False,\n",
    ")"
   ]
  },
  {
   "cell_type": "code",
   "execution_count": 31,
   "id": "6cd2f7c4-a495-4572-a4c7-507667a8e12f",
   "metadata": {
    "tags": []
   },
   "outputs": [],
   "source": [
    "trainer = Trainer(\n",
    "    model=model,\n",
    "    args=training_args,\n",
    "    train_dataset=wnut_tokenized[\"train\"],\n",
    "    eval_dataset=wnut_tokenized[\"validation\"],\n",
    "    tokenizer=tokenizer,\n",
    "    data_collator=data_collator,\n",
    "    compute_metrics=compute_metrics,\n",
    ")"
   ]
  },
  {
   "cell_type": "code",
   "execution_count": 32,
   "id": "231270da-edfc-4dbb-8bcd-095fe6c796b4",
   "metadata": {
    "tags": []
   },
   "outputs": [
    {
     "data": {
      "text/html": [
       "\n",
       "    <div>\n",
       "      \n",
       "      <progress value='426' max='426' style='width:300px; height:20px; vertical-align: middle;'></progress>\n",
       "      [426/426 00:51, Epoch 2/2]\n",
       "    </div>\n",
       "    <table border=\"1\" class=\"dataframe\">\n",
       "  <thead>\n",
       " <tr style=\"text-align: left;\">\n",
       "      <th>Epoch</th>\n",
       "      <th>Training Loss</th>\n",
       "      <th>Validation Loss</th>\n",
       "      <th>Precision</th>\n",
       "      <th>Recall</th>\n",
       "      <th>F1</th>\n",
       "      <th>Accuracy</th>\n",
       "    </tr>\n",
       "  </thead>\n",
       "  <tbody>\n",
       "    <tr>\n",
       "      <td>1</td>\n",
       "      <td>No log</td>\n",
       "      <td>0.259533</td>\n",
       "      <td>0.612245</td>\n",
       "      <td>0.322967</td>\n",
       "      <td>0.422866</td>\n",
       "      <td>0.939808</td>\n",
       "    </tr>\n",
       "    <tr>\n",
       "      <td>2</td>\n",
       "      <td>No log</td>\n",
       "      <td>0.241782</td>\n",
       "      <td>0.624490</td>\n",
       "      <td>0.366029</td>\n",
       "      <td>0.461538</td>\n",
       "      <td>0.943113</td>\n",
       "    </tr>\n",
       "  </tbody>\n",
       "</table><p>"
      ],
      "text/plain": [
       "<IPython.core.display.HTML object>"
      ]
     },
     "metadata": {},
     "output_type": "display_data"
    },
    {
     "name": "stderr",
     "output_type": "stream",
     "text": [
      "/root/micromamba/envs/adsp-nlp/lib/python3.11/site-packages/seqeval/metrics/v1.py:57: UndefinedMetricWarning: Precision and F-score are ill-defined and being set to 0.0 in labels with no predicted samples. Use `zero_division` parameter to control this behavior.\n",
      "  _warn_prf(average, modifier, msg_start, len(result))\n"
     ]
    },
    {
     "data": {
      "text/plain": [
       "TrainOutput(global_step=426, training_loss=0.20347989221134097, metrics={'train_runtime': 52.6571, 'train_samples_per_second': 128.909, 'train_steps_per_second': 8.09, 'total_flos': 105885281822220.0, 'train_loss': 0.20347989221134097, 'epoch': 2.0})"
      ]
     },
     "execution_count": 32,
     "metadata": {},
     "output_type": "execute_result"
    }
   ],
   "source": [
    "trainer.train()"
   ]
  },
  {
   "cell_type": "markdown",
   "id": "4ce914df-b1c7-46da-be64-bd335e68743a",
   "metadata": {},
   "source": [
    "Next, we can try inferencing using some text for Wikipedia. We will also compare the output of the trained model to the output of a randomly initiatialized model."
   ]
  },
  {
   "cell_type": "code",
   "execution_count": 33,
   "id": "b5efe2ca-c24b-471e-86a8-d6b02b232ce1",
   "metadata": {
    "tags": []
   },
   "outputs": [],
   "source": [
    "sample_text = \"The Great Gatsby is a 1925 novel by American writer F. Scott Fitzgerald. Set in the Jazz Age on Long Island, near New York City, the novel depicts first-person narrator Nick Carraway's interactions with mysterious millionaire Jay Gatsby and Gatsby's obsession to reunite with his former lover, Daisy Buchanan. \""
   ]
  },
  {
   "cell_type": "code",
   "execution_count": 34,
   "id": "4a4d762d-45bd-41a6-9be7-2c8ef47e0882",
   "metadata": {
    "tags": []
   },
   "outputs": [],
   "source": [
    "# tokenizing inputs\n",
    "inputs = tokenizer([sample_text], return_tensors=\"pt\")"
   ]
  },
  {
   "cell_type": "code",
   "execution_count": 35,
   "id": "be80cb57-c58e-4b14-94e4-4b65e4fa9b4f",
   "metadata": {
    "tags": []
   },
   "outputs": [
    {
     "name": "stdout",
     "output_type": "stream",
     "text": [
      "torch.Size([1, 73, 13])\n"
     ]
    }
   ],
   "source": [
    "# inferencing with trained model\n",
    "output = trainer.model(**inputs.to(device))\n",
    "\n",
    "# getting model predictions\n",
    "logits = output.logits\n",
    "predictions = logits.argmax(-1)\n",
    "\n",
    "print(logits.shape)"
   ]
  },
  {
   "cell_type": "code",
   "execution_count": 36,
   "id": "642f4817-dbcb-4382-a8fa-0e7b1c3908f8",
   "metadata": {
    "tags": []
   },
   "outputs": [
    {
     "name": "stderr",
     "output_type": "stream",
     "text": [
      "Some weights of DistilBertForTokenClassification were not initialized from the model checkpoint at distilbert-base-cased and are newly initialized: ['classifier.bias', 'classifier.weight']\n",
      "You should probably TRAIN this model on a down-stream task to be able to use it for predictions and inference.\n"
     ]
    },
    {
     "name": "stdout",
     "output_type": "stream",
     "text": [
      "torch.Size([1, 73, 13])\n"
     ]
    }
   ],
   "source": [
    "# inferencing using freshly initialized model (random weights for classification head)\n",
    "random_model = AutoModelForTokenClassification.from_pretrained(\n",
    "    model_ckpt,\n",
    "    num_labels=len(idx2label),\n",
    "    id2label=idx2label,\n",
    "    label2id=label2idx\n",
    ").to(device)\n",
    "\n",
    "# inferencing with trained model\n",
    "random_output = random_model(**inputs.to(device))\n",
    "\n",
    "# getting model predictions\n",
    "random_logits = random_output.logits\n",
    "random_predictions = random_logits.argmax(-1)\n",
    "\n",
    "print(random_logits.shape)"
   ]
  },
  {
   "cell_type": "code",
   "execution_count": 37,
   "id": "c27e9fcb-dffb-4c86-94f3-50808051f7c1",
   "metadata": {
    "tags": []
   },
   "outputs": [],
   "source": [
    "# converting token ids and label ids to actual words\n",
    "trained_labels = [label_names[p] for p in predictions.flatten()]\n",
    "random_labels = [label_names[p] for p in random_predictions.flatten()]\n",
    "\n",
    "tokens = tokenizer.convert_ids_to_tokens(inputs[\"input_ids\"].flatten())"
   ]
  },
  {
   "cell_type": "code",
   "execution_count": 38,
   "id": "2ec66a72-cf77-4cfa-a9ef-6ad2ff0a76ee",
   "metadata": {
    "tags": []
   },
   "outputs": [
    {
     "data": {
      "text/html": [
       "<div>\n",
       "<style scoped>\n",
       "    .dataframe tbody tr th:only-of-type {\n",
       "        vertical-align: middle;\n",
       "    }\n",
       "\n",
       "    .dataframe tbody tr th {\n",
       "        vertical-align: top;\n",
       "    }\n",
       "\n",
       "    .dataframe thead th {\n",
       "        text-align: right;\n",
       "    }\n",
       "</style>\n",
       "<table border=\"1\" class=\"dataframe\">\n",
       "  <thead>\n",
       "    <tr style=\"text-align: right;\">\n",
       "      <th></th>\n",
       "      <th>tokens</th>\n",
       "      <th>trained</th>\n",
       "      <th>random</th>\n",
       "    </tr>\n",
       "  </thead>\n",
       "  <tbody>\n",
       "    <tr>\n",
       "      <th>0</th>\n",
       "      <td>[CLS]</td>\n",
       "      <td>O</td>\n",
       "      <td>B-location</td>\n",
       "    </tr>\n",
       "    <tr>\n",
       "      <th>1</th>\n",
       "      <td>The</td>\n",
       "      <td>O</td>\n",
       "      <td>B-group</td>\n",
       "    </tr>\n",
       "    <tr>\n",
       "      <th>2</th>\n",
       "      <td>Great</td>\n",
       "      <td>O</td>\n",
       "      <td>B-group</td>\n",
       "    </tr>\n",
       "    <tr>\n",
       "      <th>3</th>\n",
       "      <td>G</td>\n",
       "      <td>I-person</td>\n",
       "      <td>B-group</td>\n",
       "    </tr>\n",
       "    <tr>\n",
       "      <th>4</th>\n",
       "      <td>##ats</td>\n",
       "      <td>O</td>\n",
       "      <td>B-corporation</td>\n",
       "    </tr>\n",
       "    <tr>\n",
       "      <th>5</th>\n",
       "      <td>##by</td>\n",
       "      <td>O</td>\n",
       "      <td>B-group</td>\n",
       "    </tr>\n",
       "    <tr>\n",
       "      <th>6</th>\n",
       "      <td>is</td>\n",
       "      <td>O</td>\n",
       "      <td>O</td>\n",
       "    </tr>\n",
       "    <tr>\n",
       "      <th>7</th>\n",
       "      <td>a</td>\n",
       "      <td>O</td>\n",
       "      <td>I-corporation</td>\n",
       "    </tr>\n",
       "    <tr>\n",
       "      <th>8</th>\n",
       "      <td>1925</td>\n",
       "      <td>O</td>\n",
       "      <td>I-location</td>\n",
       "    </tr>\n",
       "    <tr>\n",
       "      <th>9</th>\n",
       "      <td>novel</td>\n",
       "      <td>O</td>\n",
       "      <td>B-creative-work</td>\n",
       "    </tr>\n",
       "    <tr>\n",
       "      <th>10</th>\n",
       "      <td>by</td>\n",
       "      <td>O</td>\n",
       "      <td>O</td>\n",
       "    </tr>\n",
       "    <tr>\n",
       "      <th>11</th>\n",
       "      <td>American</td>\n",
       "      <td>O</td>\n",
       "      <td>I-location</td>\n",
       "    </tr>\n",
       "    <tr>\n",
       "      <th>12</th>\n",
       "      <td>writer</td>\n",
       "      <td>O</td>\n",
       "      <td>B-group</td>\n",
       "    </tr>\n",
       "    <tr>\n",
       "      <th>13</th>\n",
       "      <td>F</td>\n",
       "      <td>B-person</td>\n",
       "      <td>B-group</td>\n",
       "    </tr>\n",
       "    <tr>\n",
       "      <th>14</th>\n",
       "      <td>.</td>\n",
       "      <td>I-person</td>\n",
       "      <td>I-creative-work</td>\n",
       "    </tr>\n",
       "    <tr>\n",
       "      <th>15</th>\n",
       "      <td>Scott</td>\n",
       "      <td>I-person</td>\n",
       "      <td>B-group</td>\n",
       "    </tr>\n",
       "    <tr>\n",
       "      <th>16</th>\n",
       "      <td>Fitzgerald</td>\n",
       "      <td>I-person</td>\n",
       "      <td>B-group</td>\n",
       "    </tr>\n",
       "    <tr>\n",
       "      <th>17</th>\n",
       "      <td>.</td>\n",
       "      <td>O</td>\n",
       "      <td>I-corporation</td>\n",
       "    </tr>\n",
       "    <tr>\n",
       "      <th>18</th>\n",
       "      <td>Set</td>\n",
       "      <td>O</td>\n",
       "      <td>B-group</td>\n",
       "    </tr>\n",
       "    <tr>\n",
       "      <th>19</th>\n",
       "      <td>in</td>\n",
       "      <td>O</td>\n",
       "      <td>I-creative-work</td>\n",
       "    </tr>\n",
       "    <tr>\n",
       "      <th>20</th>\n",
       "      <td>the</td>\n",
       "      <td>O</td>\n",
       "      <td>B-group</td>\n",
       "    </tr>\n",
       "    <tr>\n",
       "      <th>21</th>\n",
       "      <td>Jazz</td>\n",
       "      <td>B-location</td>\n",
       "      <td>B-group</td>\n",
       "    </tr>\n",
       "    <tr>\n",
       "      <th>22</th>\n",
       "      <td>Age</td>\n",
       "      <td>I-location</td>\n",
       "      <td>B-group</td>\n",
       "    </tr>\n",
       "    <tr>\n",
       "      <th>23</th>\n",
       "      <td>on</td>\n",
       "      <td>O</td>\n",
       "      <td>B-group</td>\n",
       "    </tr>\n",
       "    <tr>\n",
       "      <th>24</th>\n",
       "      <td>Long</td>\n",
       "      <td>B-location</td>\n",
       "      <td>I-creative-work</td>\n",
       "    </tr>\n",
       "    <tr>\n",
       "      <th>25</th>\n",
       "      <td>Island</td>\n",
       "      <td>I-location</td>\n",
       "      <td>B-group</td>\n",
       "    </tr>\n",
       "    <tr>\n",
       "      <th>26</th>\n",
       "      <td>,</td>\n",
       "      <td>O</td>\n",
       "      <td>B-group</td>\n",
       "    </tr>\n",
       "    <tr>\n",
       "      <th>27</th>\n",
       "      <td>near</td>\n",
       "      <td>O</td>\n",
       "      <td>B-group</td>\n",
       "    </tr>\n",
       "    <tr>\n",
       "      <th>28</th>\n",
       "      <td>New</td>\n",
       "      <td>B-location</td>\n",
       "      <td>I-creative-work</td>\n",
       "    </tr>\n",
       "    <tr>\n",
       "      <th>29</th>\n",
       "      <td>York</td>\n",
       "      <td>I-location</td>\n",
       "      <td>B-group</td>\n",
       "    </tr>\n",
       "    <tr>\n",
       "      <th>30</th>\n",
       "      <td>City</td>\n",
       "      <td>I-location</td>\n",
       "      <td>B-group</td>\n",
       "    </tr>\n",
       "    <tr>\n",
       "      <th>31</th>\n",
       "      <td>,</td>\n",
       "      <td>O</td>\n",
       "      <td>I-corporation</td>\n",
       "    </tr>\n",
       "    <tr>\n",
       "      <th>32</th>\n",
       "      <td>the</td>\n",
       "      <td>O</td>\n",
       "      <td>I-person</td>\n",
       "    </tr>\n",
       "    <tr>\n",
       "      <th>33</th>\n",
       "      <td>novel</td>\n",
       "      <td>O</td>\n",
       "      <td>B-corporation</td>\n",
       "    </tr>\n",
       "    <tr>\n",
       "      <th>34</th>\n",
       "      <td>depicts</td>\n",
       "      <td>O</td>\n",
       "      <td>I-location</td>\n",
       "    </tr>\n",
       "    <tr>\n",
       "      <th>35</th>\n",
       "      <td>first</td>\n",
       "      <td>O</td>\n",
       "      <td>I-person</td>\n",
       "    </tr>\n",
       "    <tr>\n",
       "      <th>36</th>\n",
       "      <td>-</td>\n",
       "      <td>O</td>\n",
       "      <td>B-corporation</td>\n",
       "    </tr>\n",
       "    <tr>\n",
       "      <th>37</th>\n",
       "      <td>person</td>\n",
       "      <td>O</td>\n",
       "      <td>I-group</td>\n",
       "    </tr>\n",
       "    <tr>\n",
       "      <th>38</th>\n",
       "      <td>narrator</td>\n",
       "      <td>O</td>\n",
       "      <td>B-group</td>\n",
       "    </tr>\n",
       "    <tr>\n",
       "      <th>39</th>\n",
       "      <td>Nick</td>\n",
       "      <td>B-person</td>\n",
       "      <td>B-group</td>\n",
       "    </tr>\n",
       "    <tr>\n",
       "      <th>40</th>\n",
       "      <td>Carr</td>\n",
       "      <td>I-person</td>\n",
       "      <td>B-group</td>\n",
       "    </tr>\n",
       "    <tr>\n",
       "      <th>41</th>\n",
       "      <td>##away</td>\n",
       "      <td>O</td>\n",
       "      <td>B-group</td>\n",
       "    </tr>\n",
       "    <tr>\n",
       "      <th>42</th>\n",
       "      <td>'</td>\n",
       "      <td>O</td>\n",
       "      <td>B-group</td>\n",
       "    </tr>\n",
       "    <tr>\n",
       "      <th>43</th>\n",
       "      <td>s</td>\n",
       "      <td>O</td>\n",
       "      <td>B-group</td>\n",
       "    </tr>\n",
       "    <tr>\n",
       "      <th>44</th>\n",
       "      <td>interactions</td>\n",
       "      <td>O</td>\n",
       "      <td>B-corporation</td>\n",
       "    </tr>\n",
       "    <tr>\n",
       "      <th>45</th>\n",
       "      <td>with</td>\n",
       "      <td>O</td>\n",
       "      <td>B-group</td>\n",
       "    </tr>\n",
       "    <tr>\n",
       "      <th>46</th>\n",
       "      <td>mysterious</td>\n",
       "      <td>O</td>\n",
       "      <td>I-location</td>\n",
       "    </tr>\n",
       "    <tr>\n",
       "      <th>47</th>\n",
       "      <td>million</td>\n",
       "      <td>O</td>\n",
       "      <td>B-group</td>\n",
       "    </tr>\n",
       "    <tr>\n",
       "      <th>48</th>\n",
       "      <td>##aire</td>\n",
       "      <td>O</td>\n",
       "      <td>B-group</td>\n",
       "    </tr>\n",
       "    <tr>\n",
       "      <th>49</th>\n",
       "      <td>Jay</td>\n",
       "      <td>B-person</td>\n",
       "      <td>B-group</td>\n",
       "    </tr>\n",
       "    <tr>\n",
       "      <th>50</th>\n",
       "      <td>G</td>\n",
       "      <td>I-person</td>\n",
       "      <td>B-group</td>\n",
       "    </tr>\n",
       "    <tr>\n",
       "      <th>51</th>\n",
       "      <td>##ats</td>\n",
       "      <td>O</td>\n",
       "      <td>I-creative-work</td>\n",
       "    </tr>\n",
       "    <tr>\n",
       "      <th>52</th>\n",
       "      <td>##by</td>\n",
       "      <td>O</td>\n",
       "      <td>B-group</td>\n",
       "    </tr>\n",
       "    <tr>\n",
       "      <th>53</th>\n",
       "      <td>and</td>\n",
       "      <td>O</td>\n",
       "      <td>B-group</td>\n",
       "    </tr>\n",
       "    <tr>\n",
       "      <th>54</th>\n",
       "      <td>G</td>\n",
       "      <td>B-person</td>\n",
       "      <td>B-group</td>\n",
       "    </tr>\n",
       "    <tr>\n",
       "      <th>55</th>\n",
       "      <td>##ats</td>\n",
       "      <td>O</td>\n",
       "      <td>I-creative-work</td>\n",
       "    </tr>\n",
       "    <tr>\n",
       "      <th>56</th>\n",
       "      <td>##by</td>\n",
       "      <td>O</td>\n",
       "      <td>B-person</td>\n",
       "    </tr>\n",
       "    <tr>\n",
       "      <th>57</th>\n",
       "      <td>'</td>\n",
       "      <td>O</td>\n",
       "      <td>B-group</td>\n",
       "    </tr>\n",
       "    <tr>\n",
       "      <th>58</th>\n",
       "      <td>s</td>\n",
       "      <td>O</td>\n",
       "      <td>B-group</td>\n",
       "    </tr>\n",
       "    <tr>\n",
       "      <th>59</th>\n",
       "      <td>obsession</td>\n",
       "      <td>O</td>\n",
       "      <td>B-group</td>\n",
       "    </tr>\n",
       "    <tr>\n",
       "      <th>60</th>\n",
       "      <td>to</td>\n",
       "      <td>O</td>\n",
       "      <td>I-product</td>\n",
       "    </tr>\n",
       "    <tr>\n",
       "      <th>61</th>\n",
       "      <td>re</td>\n",
       "      <td>O</td>\n",
       "      <td>B-group</td>\n",
       "    </tr>\n",
       "    <tr>\n",
       "      <th>62</th>\n",
       "      <td>##uni</td>\n",
       "      <td>O</td>\n",
       "      <td>B-creative-work</td>\n",
       "    </tr>\n",
       "    <tr>\n",
       "      <th>63</th>\n",
       "      <td>##te</td>\n",
       "      <td>O</td>\n",
       "      <td>B-group</td>\n",
       "    </tr>\n",
       "    <tr>\n",
       "      <th>64</th>\n",
       "      <td>with</td>\n",
       "      <td>O</td>\n",
       "      <td>B-group</td>\n",
       "    </tr>\n",
       "    <tr>\n",
       "      <th>65</th>\n",
       "      <td>his</td>\n",
       "      <td>O</td>\n",
       "      <td>B-group</td>\n",
       "    </tr>\n",
       "    <tr>\n",
       "      <th>66</th>\n",
       "      <td>former</td>\n",
       "      <td>O</td>\n",
       "      <td>B-group</td>\n",
       "    </tr>\n",
       "    <tr>\n",
       "      <th>67</th>\n",
       "      <td>lover</td>\n",
       "      <td>O</td>\n",
       "      <td>B-group</td>\n",
       "    </tr>\n",
       "    <tr>\n",
       "      <th>68</th>\n",
       "      <td>,</td>\n",
       "      <td>O</td>\n",
       "      <td>B-group</td>\n",
       "    </tr>\n",
       "    <tr>\n",
       "      <th>69</th>\n",
       "      <td>Daisy</td>\n",
       "      <td>B-person</td>\n",
       "      <td>B-group</td>\n",
       "    </tr>\n",
       "    <tr>\n",
       "      <th>70</th>\n",
       "      <td>Buchanan</td>\n",
       "      <td>I-person</td>\n",
       "      <td>B-group</td>\n",
       "    </tr>\n",
       "    <tr>\n",
       "      <th>71</th>\n",
       "      <td>.</td>\n",
       "      <td>O</td>\n",
       "      <td>I-corporation</td>\n",
       "    </tr>\n",
       "    <tr>\n",
       "      <th>72</th>\n",
       "      <td>[SEP]</td>\n",
       "      <td>O</td>\n",
       "      <td>I-corporation</td>\n",
       "    </tr>\n",
       "  </tbody>\n",
       "</table>\n",
       "</div>"
      ],
      "text/plain": [
       "          tokens     trained           random\n",
       "0          [CLS]           O       B-location\n",
       "1            The           O          B-group\n",
       "2          Great           O          B-group\n",
       "3              G    I-person          B-group\n",
       "4          ##ats           O    B-corporation\n",
       "5           ##by           O          B-group\n",
       "6             is           O                O\n",
       "7              a           O    I-corporation\n",
       "8           1925           O       I-location\n",
       "9          novel           O  B-creative-work\n",
       "10            by           O                O\n",
       "11      American           O       I-location\n",
       "12        writer           O          B-group\n",
       "13             F    B-person          B-group\n",
       "14             .    I-person  I-creative-work\n",
       "15         Scott    I-person          B-group\n",
       "16    Fitzgerald    I-person          B-group\n",
       "17             .           O    I-corporation\n",
       "18           Set           O          B-group\n",
       "19            in           O  I-creative-work\n",
       "20           the           O          B-group\n",
       "21          Jazz  B-location          B-group\n",
       "22           Age  I-location          B-group\n",
       "23            on           O          B-group\n",
       "24          Long  B-location  I-creative-work\n",
       "25        Island  I-location          B-group\n",
       "26             ,           O          B-group\n",
       "27          near           O          B-group\n",
       "28           New  B-location  I-creative-work\n",
       "29          York  I-location          B-group\n",
       "30          City  I-location          B-group\n",
       "31             ,           O    I-corporation\n",
       "32           the           O         I-person\n",
       "33         novel           O    B-corporation\n",
       "34       depicts           O       I-location\n",
       "35         first           O         I-person\n",
       "36             -           O    B-corporation\n",
       "37        person           O          I-group\n",
       "38      narrator           O          B-group\n",
       "39          Nick    B-person          B-group\n",
       "40          Carr    I-person          B-group\n",
       "41        ##away           O          B-group\n",
       "42             '           O          B-group\n",
       "43             s           O          B-group\n",
       "44  interactions           O    B-corporation\n",
       "45          with           O          B-group\n",
       "46    mysterious           O       I-location\n",
       "47       million           O          B-group\n",
       "48        ##aire           O          B-group\n",
       "49           Jay    B-person          B-group\n",
       "50             G    I-person          B-group\n",
       "51         ##ats           O  I-creative-work\n",
       "52          ##by           O          B-group\n",
       "53           and           O          B-group\n",
       "54             G    B-person          B-group\n",
       "55         ##ats           O  I-creative-work\n",
       "56          ##by           O         B-person\n",
       "57             '           O          B-group\n",
       "58             s           O          B-group\n",
       "59     obsession           O          B-group\n",
       "60            to           O        I-product\n",
       "61            re           O          B-group\n",
       "62         ##uni           O  B-creative-work\n",
       "63          ##te           O          B-group\n",
       "64          with           O          B-group\n",
       "65           his           O          B-group\n",
       "66        former           O          B-group\n",
       "67         lover           O          B-group\n",
       "68             ,           O          B-group\n",
       "69         Daisy    B-person          B-group\n",
       "70      Buchanan    I-person          B-group\n",
       "71             .           O    I-corporation\n",
       "72         [SEP]           O    I-corporation"
      ]
     },
     "execution_count": 38,
     "metadata": {},
     "output_type": "execute_result"
    }
   ],
   "source": [
    "pd.DataFrame(zip(tokens, trained_labels, random_labels), columns=[\"tokens\", \"trained\", \"random\"]).head(100)"
   ]
  },
  {
   "cell_type": "markdown",
   "id": "cf7ef85d-e22b-4a82-8e80-29c2a11ef1b1",
   "metadata": {},
   "source": [
    "The trained model clearly does better than a random model. However, let's do some error analysis to understand what's going on."
   ]
  },
  {
   "cell_type": "code",
   "execution_count": 39,
   "id": "c9957fae-793e-4f7c-9ec9-6919180ccaf4",
   "metadata": {
    "tags": []
   },
   "outputs": [],
   "source": [
    "def forward_pass_with_label(batch):\n",
    "    \"\"\"\n",
    "    Function that predicts named entities for text, outputting corresponding losses.\n",
    "    \"\"\"\n",
    "    \n",
    "    # Convert dict of lists to list of dicts suitable for data collator\n",
    "    features = [dict(zip(batch, t)) for t in zip(*batch.values())]\n",
    "    \n",
    "    # Pad inputs and labels and put all tensors on device\n",
    "    batch = data_collator(features)\n",
    "    input_ids = batch[\"input_ids\"].to(device)\n",
    "    attention_mask = batch[\"attention_mask\"].to(device)\n",
    "    labels = batch[\"labels\"].to(device)\n",
    "    \n",
    "    with torch.no_grad():\n",
    "        output = trainer.model(input_ids, attention_mask)\n",
    "        \n",
    "        # logit.size: [batch_size, sequence_length, classes]\n",
    "        # Predict class with largest logit value on classes axis\n",
    "        # given [batcH_size, seq_len, 1]\n",
    "        predicted_label = torch.argmax(output.logits, axis=-1).cpu().numpy()\n",
    "        \n",
    "    # Calculate loss per token after flattening batch dimension with view\n",
    "    loss = torch.nn.functional.cross_entropy(\n",
    "        output.logits.view(-1, 13),\n",
    "        labels.view(-1),\n",
    "        reduction=\"none\"\n",
    "    )\n",
    "    # Unflatten batch dimension and convert to numpy array\n",
    "    loss = loss.view(len(input_ids), -1).cpu().numpy()\n",
    "\n",
    "    return {\"loss\":loss, \"predicted_label\": predicted_label}"
   ]
  },
  {
   "cell_type": "code",
   "execution_count": 40,
   "id": "697929a1-3467-4efa-b652-34934d479a4c",
   "metadata": {
    "tags": []
   },
   "outputs": [
    {
     "name": "stderr",
     "output_type": "stream",
     "text": [
      "Parameter 'function'=<function forward_pass_with_label at 0x7ca8c8862f20> of the transform datasets.arrow_dataset.Dataset._map_single couldn't be hashed properly, a random hash was used instead. Make sure your transforms and parameters are serializable with pickle or dill for the dataset fingerprinting and caching to work. If you reuse this transform, the caching mechanism will consider it to be different from the previous calls and recompute everything. This warning is only showed once. Subsequent hashing failures won't be showed.\n"
     ]
    },
    {
     "data": {
      "application/vnd.jupyter.widget-view+json": {
       "model_id": "40ab39b999ea41ad81a77496560af1a1",
       "version_major": 2,
       "version_minor": 0
      },
      "text/plain": [
       "Map:   0%|          | 0/1009 [00:00<?, ? examples/s]"
      ]
     },
     "metadata": {},
     "output_type": "display_data"
    }
   ],
   "source": [
    "valid_set = wnut_tokenized[\"validation\"]\n",
    "valid_set = valid_set.map(forward_pass_with_label, batched=True, batch_size=32)\n",
    "df = valid_set.to_pandas()"
   ]
  },
  {
   "cell_type": "code",
   "execution_count": 41,
   "id": "f83422dd-e193-40df-88f6-b7b8c1d7d99c",
   "metadata": {
    "tags": []
   },
   "outputs": [
    {
     "data": {
      "text/html": [
       "<div>\n",
       "<style scoped>\n",
       "    .dataframe tbody tr th:only-of-type {\n",
       "        vertical-align: middle;\n",
       "    }\n",
       "\n",
       "    .dataframe tbody tr th {\n",
       "        vertical-align: top;\n",
       "    }\n",
       "\n",
       "    .dataframe thead th {\n",
       "        text-align: right;\n",
       "    }\n",
       "</style>\n",
       "<table border=\"1\" class=\"dataframe\">\n",
       "  <thead>\n",
       "    <tr style=\"text-align: right;\">\n",
       "      <th></th>\n",
       "      <th>input_ids</th>\n",
       "      <th>attention_mask</th>\n",
       "      <th>labels</th>\n",
       "      <th>loss</th>\n",
       "      <th>predicted_label</th>\n",
       "    </tr>\n",
       "  </thead>\n",
       "  <tbody>\n",
       "    <tr>\n",
       "      <th>0</th>\n",
       "      <td>[101, 1457, 23156, 2646, 5305, 3136, 1137, 113...</td>\n",
       "      <td>[1, 1, 1, 1, 1, 1, 1, 1, 1, 1, 1, 1, 1, 1, 1, ...</td>\n",
       "      <td>[-100, 0, -100, -100, -100, 0, 0, 0, 0, 0, 0, ...</td>\n",
       "      <td>[0.0, 0.033630095, 0.0, 0.0, 0.0, 0.0021043317...</td>\n",
       "      <td>[0, 0, 0, 0, 0, 0, 0, 0, 0, 0, 0, 0, 0, 0, 0, ...</td>\n",
       "    </tr>\n",
       "    <tr>\n",
       "      <th>1</th>\n",
       "      <td>[101, 1192, 1431, 112, 1396, 3523, 1113, 2156,...</td>\n",
       "      <td>[1, 1, 1, 1, 1, 1, 1, 1, 1, 1, 1, 1, 1, 1, 1, ...</td>\n",
       "      <td>[-100, 0, 0, 0, 0, 0, 0, 7, -100, -100, 8, 8, ...</td>\n",
       "      <td>[0.0, 0.0017034796, 0.0013983005, 0.0018060578...</td>\n",
       "      <td>[0, 0, 0, 0, 0, 0, 0, 7, 8, 0, 8, 0, 0, 0, 0, ...</td>\n",
       "    </tr>\n",
       "    <tr>\n",
       "      <th>2</th>\n",
       "      <td>[101, 1398, 146, 112, 1396, 1151, 1833, 1110, ...</td>\n",
       "      <td>[1, 1, 1, 1, 1, 1, 1, 1, 1, 1, 1, 1, 1, 1, 1, ...</td>\n",
       "      <td>[-100, 0, 0, 0, 0, 0, 0, 0, 0, -100, -100, 0, ...</td>\n",
       "      <td>[0.0, 0.0024006139, 0.0011218452, 0.0015140034...</td>\n",
       "      <td>[0, 0, 0, 0, 0, 0, 0, 0, 0, 0, 0, 0, 9, 0, 9, ...</td>\n",
       "    </tr>\n",
       "    <tr>\n",
       "      <th>3</th>\n",
       "      <td>[101, 192, 4064, 9712, 1918, 1105, 24181, 3150...</td>\n",
       "      <td>[1, 1, 1, 1, 1, 1, 1, 1, 1, 1, 1, 1, 1, 1, 1, ...</td>\n",
       "      <td>[-100, 0, -100, 9, -100, 0, 9, -100, 0, 0, 0, ...</td>\n",
       "      <td>[0.0, 0.026391128, 0.0, 1.2317789, 0.0, 0.0122...</td>\n",
       "      <td>[0, 0, 0, 0, 0, 0, 0, 0, 0, 0, 0, 0, 0, 0, 0, ...</td>\n",
       "    </tr>\n",
       "    <tr>\n",
       "      <th>4</th>\n",
       "      <td>[101, 157, 3048, 6258, 19432, 156, 2346, 27157...</td>\n",
       "      <td>[1, 1, 1, 1, 1, 1, 1, 1, 1, 1]</td>\n",
       "      <td>[-100, 0, -100, -100, 0, 0, -100, 0, -100, -100]</td>\n",
       "      <td>[0.0, 0.020105962, 0.0, 0.0, 0.013311444, 0.01...</td>\n",
       "      <td>[0, 0, 0, 0, 0, 0, 0, 0, 0, 0, 0, 0, 0, 0, 0, ...</td>\n",
       "    </tr>\n",
       "    <tr>\n",
       "      <th>...</th>\n",
       "      <td>...</td>\n",
       "      <td>...</td>\n",
       "      <td>...</td>\n",
       "      <td>...</td>\n",
       "      <td>...</td>\n",
       "    </tr>\n",
       "    <tr>\n",
       "      <th>1004</th>\n",
       "      <td>[101, 1240, 23790, 1110, 2513, 131, 141, 131, ...</td>\n",
       "      <td>[1, 1, 1, 1, 1, 1, 1, 1, 1, 1]</td>\n",
       "      <td>[-100, 0, 0, 0, 0, 0, 0, 0, 0, -100]</td>\n",
       "      <td>[0.0, 0.008692876, 0.009506198, 0.0025675686, ...</td>\n",
       "      <td>[0, 0, 0, 0, 0, 0, 0, 0, 0, 0, 0, 0, 0, 0, 0, ...</td>\n",
       "    </tr>\n",
       "    <tr>\n",
       "      <th>1005</th>\n",
       "      <td>[101, 146, 145, 13821, 2036, 157, 3048, 6258, ...</td>\n",
       "      <td>[1, 1, 1, 1, 1, 1, 1, 1, 1, 1, 1, 1, 1, 1, 1, ...</td>\n",
       "      <td>[-100, 0, 0, -100, -100, 0, -100, -100, 0, 0, ...</td>\n",
       "      <td>[0.0, 0.007949973, 0.01757899, 0.0, 0.0, 0.011...</td>\n",
       "      <td>[0, 0, 0, 0, 0, 0, 0, 0, 0, 0, 0, 0, 0, 0, 0, ...</td>\n",
       "    </tr>\n",
       "    <tr>\n",
       "      <th>1006</th>\n",
       "      <td>[101, 1370, 1972, 119, 10605, 1233, 8147, 1176...</td>\n",
       "      <td>[1, 1, 1, 1, 1, 1, 1, 1, 1, 1, 1, 1, 1, 1, 1, ...</td>\n",
       "      <td>[-100, 0, 0, 0, 0, -100, 0, 0, 0, 0, -100, 0, ...</td>\n",
       "      <td>[0.0, 0.0020743536, 0.0020311694, 0.0008817598...</td>\n",
       "      <td>[0, 0, 0, 0, 0, 0, 0, 0, 0, 0, 0, 0, 0, 0, 0, ...</td>\n",
       "    </tr>\n",
       "    <tr>\n",
       "      <th>1007</th>\n",
       "      <td>[101, 6548, 5510, 20691, 1830, 1584, 102]</td>\n",
       "      <td>[1, 1, 1, 1, 1, 1, 1]</td>\n",
       "      <td>[-100, 0, 0, 9, -100, -100, -100]</td>\n",
       "      <td>[0.0, 0.019771287, 0.034676746, 1.8570409, 0.0...</td>\n",
       "      <td>[0, 0, 0, 0, 0, 0, 0, 0, 0, 0, 0, 0, 0, 0, 0, ...</td>\n",
       "    </tr>\n",
       "    <tr>\n",
       "      <th>1008</th>\n",
       "      <td>[101, 1188, 2564, 2993, 1117, 1319, 1437, 1113...</td>\n",
       "      <td>[1, 1, 1, 1, 1, 1, 1, 1, 1, 1, 1, 1, 1, 1]</td>\n",
       "      <td>[-100, 0, 0, 0, 0, 0, 0, 0, 1, -100, -100, 2, ...</td>\n",
       "      <td>[0.0, 0.0054433937, 0.0020913652, 0.0011576863...</td>\n",
       "      <td>[0, 0, 0, 0, 0, 0, 0, 0, 0, 0, 0, 0, 0, 0, 0, ...</td>\n",
       "    </tr>\n",
       "  </tbody>\n",
       "</table>\n",
       "<p>1009 rows × 5 columns</p>\n",
       "</div>"
      ],
      "text/plain": [
       "                                              input_ids  \\\n",
       "0     [101, 1457, 23156, 2646, 5305, 3136, 1137, 113...   \n",
       "1     [101, 1192, 1431, 112, 1396, 3523, 1113, 2156,...   \n",
       "2     [101, 1398, 146, 112, 1396, 1151, 1833, 1110, ...   \n",
       "3     [101, 192, 4064, 9712, 1918, 1105, 24181, 3150...   \n",
       "4     [101, 157, 3048, 6258, 19432, 156, 2346, 27157...   \n",
       "...                                                 ...   \n",
       "1004  [101, 1240, 23790, 1110, 2513, 131, 141, 131, ...   \n",
       "1005  [101, 146, 145, 13821, 2036, 157, 3048, 6258, ...   \n",
       "1006  [101, 1370, 1972, 119, 10605, 1233, 8147, 1176...   \n",
       "1007          [101, 6548, 5510, 20691, 1830, 1584, 102]   \n",
       "1008  [101, 1188, 2564, 2993, 1117, 1319, 1437, 1113...   \n",
       "\n",
       "                                         attention_mask  \\\n",
       "0     [1, 1, 1, 1, 1, 1, 1, 1, 1, 1, 1, 1, 1, 1, 1, ...   \n",
       "1     [1, 1, 1, 1, 1, 1, 1, 1, 1, 1, 1, 1, 1, 1, 1, ...   \n",
       "2     [1, 1, 1, 1, 1, 1, 1, 1, 1, 1, 1, 1, 1, 1, 1, ...   \n",
       "3     [1, 1, 1, 1, 1, 1, 1, 1, 1, 1, 1, 1, 1, 1, 1, ...   \n",
       "4                        [1, 1, 1, 1, 1, 1, 1, 1, 1, 1]   \n",
       "...                                                 ...   \n",
       "1004                     [1, 1, 1, 1, 1, 1, 1, 1, 1, 1]   \n",
       "1005  [1, 1, 1, 1, 1, 1, 1, 1, 1, 1, 1, 1, 1, 1, 1, ...   \n",
       "1006  [1, 1, 1, 1, 1, 1, 1, 1, 1, 1, 1, 1, 1, 1, 1, ...   \n",
       "1007                              [1, 1, 1, 1, 1, 1, 1]   \n",
       "1008         [1, 1, 1, 1, 1, 1, 1, 1, 1, 1, 1, 1, 1, 1]   \n",
       "\n",
       "                                                 labels  \\\n",
       "0     [-100, 0, -100, -100, -100, 0, 0, 0, 0, 0, 0, ...   \n",
       "1     [-100, 0, 0, 0, 0, 0, 0, 7, -100, -100, 8, 8, ...   \n",
       "2     [-100, 0, 0, 0, 0, 0, 0, 0, 0, -100, -100, 0, ...   \n",
       "3     [-100, 0, -100, 9, -100, 0, 9, -100, 0, 0, 0, ...   \n",
       "4      [-100, 0, -100, -100, 0, 0, -100, 0, -100, -100]   \n",
       "...                                                 ...   \n",
       "1004               [-100, 0, 0, 0, 0, 0, 0, 0, 0, -100]   \n",
       "1005  [-100, 0, 0, -100, -100, 0, -100, -100, 0, 0, ...   \n",
       "1006  [-100, 0, 0, 0, 0, -100, 0, 0, 0, 0, -100, 0, ...   \n",
       "1007                  [-100, 0, 0, 9, -100, -100, -100]   \n",
       "1008  [-100, 0, 0, 0, 0, 0, 0, 0, 1, -100, -100, 2, ...   \n",
       "\n",
       "                                                   loss  \\\n",
       "0     [0.0, 0.033630095, 0.0, 0.0, 0.0, 0.0021043317...   \n",
       "1     [0.0, 0.0017034796, 0.0013983005, 0.0018060578...   \n",
       "2     [0.0, 0.0024006139, 0.0011218452, 0.0015140034...   \n",
       "3     [0.0, 0.026391128, 0.0, 1.2317789, 0.0, 0.0122...   \n",
       "4     [0.0, 0.020105962, 0.0, 0.0, 0.013311444, 0.01...   \n",
       "...                                                 ...   \n",
       "1004  [0.0, 0.008692876, 0.009506198, 0.0025675686, ...   \n",
       "1005  [0.0, 0.007949973, 0.01757899, 0.0, 0.0, 0.011...   \n",
       "1006  [0.0, 0.0020743536, 0.0020311694, 0.0008817598...   \n",
       "1007  [0.0, 0.019771287, 0.034676746, 1.8570409, 0.0...   \n",
       "1008  [0.0, 0.0054433937, 0.0020913652, 0.0011576863...   \n",
       "\n",
       "                                        predicted_label  \n",
       "0     [0, 0, 0, 0, 0, 0, 0, 0, 0, 0, 0, 0, 0, 0, 0, ...  \n",
       "1     [0, 0, 0, 0, 0, 0, 0, 7, 8, 0, 8, 0, 0, 0, 0, ...  \n",
       "2     [0, 0, 0, 0, 0, 0, 0, 0, 0, 0, 0, 0, 9, 0, 9, ...  \n",
       "3     [0, 0, 0, 0, 0, 0, 0, 0, 0, 0, 0, 0, 0, 0, 0, ...  \n",
       "4     [0, 0, 0, 0, 0, 0, 0, 0, 0, 0, 0, 0, 0, 0, 0, ...  \n",
       "...                                                 ...  \n",
       "1004  [0, 0, 0, 0, 0, 0, 0, 0, 0, 0, 0, 0, 0, 0, 0, ...  \n",
       "1005  [0, 0, 0, 0, 0, 0, 0, 0, 0, 0, 0, 0, 0, 0, 0, ...  \n",
       "1006  [0, 0, 0, 0, 0, 0, 0, 0, 0, 0, 0, 0, 0, 0, 0, ...  \n",
       "1007  [0, 0, 0, 0, 0, 0, 0, 0, 0, 0, 0, 0, 0, 0, 0, ...  \n",
       "1008  [0, 0, 0, 0, 0, 0, 0, 0, 0, 0, 0, 0, 0, 0, 0, ...  \n",
       "\n",
       "[1009 rows x 5 columns]"
      ]
     },
     "execution_count": 41,
     "metadata": {},
     "output_type": "execute_result"
    }
   ],
   "source": [
    "df"
   ]
  },
  {
   "cell_type": "code",
   "execution_count": 42,
   "id": "de061483-ee66-49b7-913c-93c571bdd7f9",
   "metadata": {
    "tags": []
   },
   "outputs": [
    {
     "data": {
      "text/html": [
       "<div>\n",
       "<style scoped>\n",
       "    .dataframe tbody tr th:only-of-type {\n",
       "        vertical-align: middle;\n",
       "    }\n",
       "\n",
       "    .dataframe tbody tr th {\n",
       "        vertical-align: top;\n",
       "    }\n",
       "\n",
       "    .dataframe thead th {\n",
       "        text-align: right;\n",
       "    }\n",
       "</style>\n",
       "<table border=\"1\" class=\"dataframe\">\n",
       "  <thead>\n",
       "    <tr style=\"text-align: right;\">\n",
       "      <th></th>\n",
       "      <th>input_ids</th>\n",
       "      <th>attention_mask</th>\n",
       "      <th>labels</th>\n",
       "      <th>loss</th>\n",
       "      <th>predicted_label</th>\n",
       "      <th>input_tokens</th>\n",
       "    </tr>\n",
       "  </thead>\n",
       "  <tbody>\n",
       "    <tr>\n",
       "      <th>0</th>\n",
       "      <td>[101, 1457, 23156, 2646, 5305, 3136, 1137, 113...</td>\n",
       "      <td>[1, 1, 1, 1, 1, 1, 1, 1, 1, 1, 1, 1, 1, 1, 1, ...</td>\n",
       "      <td>[IGN, O, IGN, IGN, IGN, O, O, O, O, O, O, O, O...</td>\n",
       "      <td>[0.0, 0.033630095, 0.0, 0.0, 0.0, 0.0021043317...</td>\n",
       "      <td>[O, O, O, O, O, O, O, O, O, O, O, O, O, O, O, ...</td>\n",
       "      <td>[[CLS], St, ##abi, ##li, ##zed, approach, or, ...</td>\n",
       "    </tr>\n",
       "  </tbody>\n",
       "</table>\n",
       "</div>"
      ],
      "text/plain": [
       "                                           input_ids  \\\n",
       "0  [101, 1457, 23156, 2646, 5305, 3136, 1137, 113...   \n",
       "\n",
       "                                      attention_mask  \\\n",
       "0  [1, 1, 1, 1, 1, 1, 1, 1, 1, 1, 1, 1, 1, 1, 1, ...   \n",
       "\n",
       "                                              labels  \\\n",
       "0  [IGN, O, IGN, IGN, IGN, O, O, O, O, O, O, O, O...   \n",
       "\n",
       "                                                loss  \\\n",
       "0  [0.0, 0.033630095, 0.0, 0.0, 0.0, 0.0021043317...   \n",
       "\n",
       "                                     predicted_label  \\\n",
       "0  [O, O, O, O, O, O, O, O, O, O, O, O, O, O, O, ...   \n",
       "\n",
       "                                        input_tokens  \n",
       "0  [[CLS], St, ##abi, ##li, ##zed, approach, or, ...  "
      ]
     },
     "execution_count": 42,
     "metadata": {},
     "output_type": "execute_result"
    }
   ],
   "source": [
    "idx2label[-100] = \"IGN\" # giving ignore index a name\n",
    "df[\"input_tokens\"] = df[\"input_ids\"].apply(lambda x: tokenizer.convert_ids_to_tokens(x))\n",
    "df[\"predicted_label\"] = df[\"predicted_label\"].apply(lambda x: [idx2label[i] for i in x])\n",
    "df[\"labels\"] = df[\"labels\"].apply(lambda x: [idx2label[i] for i in x])\n",
    "df['loss'] = df.apply(lambda x: x['loss'][:len(x['input_ids'])], axis=1)\n",
    "df['predicted_label'] = df.apply(lambda x: x['predicted_label'][:len(x['input_ids'])], axis=1)\n",
    "df.head(1)"
   ]
  },
  {
   "cell_type": "code",
   "execution_count": 43,
   "id": "9f2e6db3-1fd3-4dd0-9638-61ec921e7380",
   "metadata": {
    "tags": []
   },
   "outputs": [
    {
     "data": {
      "text/html": [
       "<div>\n",
       "<style scoped>\n",
       "    .dataframe tbody tr th:only-of-type {\n",
       "        vertical-align: middle;\n",
       "    }\n",
       "\n",
       "    .dataframe tbody tr th {\n",
       "        vertical-align: top;\n",
       "    }\n",
       "\n",
       "    .dataframe thead th {\n",
       "        text-align: right;\n",
       "    }\n",
       "</style>\n",
       "<table border=\"1\" class=\"dataframe\">\n",
       "  <thead>\n",
       "    <tr style=\"text-align: right;\">\n",
       "      <th></th>\n",
       "      <th>input_ids</th>\n",
       "      <th>attention_mask</th>\n",
       "      <th>labels</th>\n",
       "      <th>loss</th>\n",
       "      <th>predicted_label</th>\n",
       "      <th>input_tokens</th>\n",
       "    </tr>\n",
       "  </thead>\n",
       "  <tbody>\n",
       "    <tr>\n",
       "      <th>0</th>\n",
       "      <td>1457</td>\n",
       "      <td>1</td>\n",
       "      <td>O</td>\n",
       "      <td>0.03</td>\n",
       "      <td>O</td>\n",
       "      <td>St</td>\n",
       "    </tr>\n",
       "    <tr>\n",
       "      <th>0</th>\n",
       "      <td>3136</td>\n",
       "      <td>1</td>\n",
       "      <td>O</td>\n",
       "      <td>0.00</td>\n",
       "      <td>O</td>\n",
       "      <td>approach</td>\n",
       "    </tr>\n",
       "    <tr>\n",
       "      <th>0</th>\n",
       "      <td>1137</td>\n",
       "      <td>1</td>\n",
       "      <td>O</td>\n",
       "      <td>0.00</td>\n",
       "      <td>O</td>\n",
       "      <td>or</td>\n",
       "    </tr>\n",
       "    <tr>\n",
       "      <th>0</th>\n",
       "      <td>1136</td>\n",
       "      <td>1</td>\n",
       "      <td>O</td>\n",
       "      <td>0.00</td>\n",
       "      <td>O</td>\n",
       "      <td>not</td>\n",
       "    </tr>\n",
       "    <tr>\n",
       "      <th>0</th>\n",
       "      <td>136</td>\n",
       "      <td>1</td>\n",
       "      <td>O</td>\n",
       "      <td>0.00</td>\n",
       "      <td>O</td>\n",
       "      <td>?</td>\n",
       "    </tr>\n",
       "    <tr>\n",
       "      <th>0</th>\n",
       "      <td>1337</td>\n",
       "      <td>1</td>\n",
       "      <td>O</td>\n",
       "      <td>0.00</td>\n",
       "      <td>O</td>\n",
       "      <td>That</td>\n",
       "    </tr>\n",
       "    <tr>\n",
       "      <th>0</th>\n",
       "      <td>215</td>\n",
       "      <td>1</td>\n",
       "      <td>O</td>\n",
       "      <td>0.03</td>\n",
       "      <td>O</td>\n",
       "      <td>´</td>\n",
       "    </tr>\n",
       "  </tbody>\n",
       "</table>\n",
       "</div>"
      ],
      "text/plain": [
       "  input_ids attention_mask labels  loss predicted_label input_tokens\n",
       "0      1457              1      O  0.03               O           St\n",
       "0      3136              1      O  0.00               O     approach\n",
       "0      1137              1      O  0.00               O           or\n",
       "0      1136              1      O  0.00               O          not\n",
       "0       136              1      O  0.00               O            ?\n",
       "0      1337              1      O  0.00               O         That\n",
       "0       215              1      O  0.03               O            ´"
      ]
     },
     "execution_count": 43,
     "metadata": {},
     "output_type": "execute_result"
    }
   ],
   "source": [
    "df_tokens = df.apply(pd.Series.explode)\n",
    "df_tokens = df_tokens.query(\"labels != 'IGN'\")\n",
    "df_tokens[\"loss\"] = df_tokens[\"loss\"].astype(float).round(2)\n",
    "df_tokens.head(7)"
   ]
  },
  {
   "cell_type": "markdown",
   "id": "db15b6bc-cbb3-4f60-a801-0e75de910af1",
   "metadata": {},
   "source": [
    "We can group the input tokens and aggregate the losses for each token with the count, mean, and sum. Sorting the aggregated data by the sum of the losses allows us to see which tokens have accumulated the most loss in the test set."
   ]
  },
  {
   "cell_type": "code",
   "execution_count": 44,
   "id": "a1d05b84-3310-4ec6-b1fa-2132cb8149a5",
   "metadata": {
    "tags": []
   },
   "outputs": [
    {
     "data": {
      "text/html": [
       "<div>\n",
       "<style scoped>\n",
       "    .dataframe tbody tr th:only-of-type {\n",
       "        vertical-align: middle;\n",
       "    }\n",
       "\n",
       "    .dataframe tbody tr th {\n",
       "        vertical-align: top;\n",
       "    }\n",
       "\n",
       "    .dataframe thead th {\n",
       "        text-align: right;\n",
       "    }\n",
       "</style>\n",
       "<table border=\"1\" class=\"dataframe\">\n",
       "  <thead>\n",
       "    <tr style=\"text-align: right;\">\n",
       "      <th></th>\n",
       "      <th>0</th>\n",
       "      <th>1</th>\n",
       "      <th>2</th>\n",
       "      <th>3</th>\n",
       "      <th>4</th>\n",
       "      <th>5</th>\n",
       "      <th>6</th>\n",
       "      <th>7</th>\n",
       "      <th>8</th>\n",
       "      <th>9</th>\n",
       "      <th>10</th>\n",
       "      <th>11</th>\n",
       "      <th>12</th>\n",
       "    </tr>\n",
       "  </thead>\n",
       "  <tbody>\n",
       "    <tr>\n",
       "      <th>labels</th>\n",
       "      <td>I-corporation</td>\n",
       "      <td>I-product</td>\n",
       "      <td>I-group</td>\n",
       "      <td>I-creative-work</td>\n",
       "      <td>B-product</td>\n",
       "      <td>B-creative-work</td>\n",
       "      <td>B-group</td>\n",
       "      <td>B-corporation</td>\n",
       "      <td>I-location</td>\n",
       "      <td>I-person</td>\n",
       "      <td>B-location</td>\n",
       "      <td>B-person</td>\n",
       "      <td>O</td>\n",
       "    </tr>\n",
       "    <tr>\n",
       "      <th>count</th>\n",
       "      <td>12</td>\n",
       "      <td>94</td>\n",
       "      <td>25</td>\n",
       "      <td>133</td>\n",
       "      <td>114</td>\n",
       "      <td>105</td>\n",
       "      <td>39</td>\n",
       "      <td>34</td>\n",
       "      <td>33</td>\n",
       "      <td>117</td>\n",
       "      <td>74</td>\n",
       "      <td>470</td>\n",
       "      <td>14483</td>\n",
       "    </tr>\n",
       "    <tr>\n",
       "      <th>mean</th>\n",
       "      <td>5.49</td>\n",
       "      <td>4.42</td>\n",
       "      <td>4.25</td>\n",
       "      <td>4.04</td>\n",
       "      <td>3.87</td>\n",
       "      <td>3.76</td>\n",
       "      <td>3.53</td>\n",
       "      <td>2.96</td>\n",
       "      <td>2.54</td>\n",
       "      <td>2.41</td>\n",
       "      <td>1.77</td>\n",
       "      <td>1.39</td>\n",
       "      <td>0.02</td>\n",
       "    </tr>\n",
       "    <tr>\n",
       "      <th>sum</th>\n",
       "      <td>65.93</td>\n",
       "      <td>415.59</td>\n",
       "      <td>106.31</td>\n",
       "      <td>537.37</td>\n",
       "      <td>441.02</td>\n",
       "      <td>395.32</td>\n",
       "      <td>137.77</td>\n",
       "      <td>100.81</td>\n",
       "      <td>83.76</td>\n",
       "      <td>281.4</td>\n",
       "      <td>131.28</td>\n",
       "      <td>651.22</td>\n",
       "      <td>262.32</td>\n",
       "    </tr>\n",
       "  </tbody>\n",
       "</table>\n",
       "</div>"
      ],
      "text/plain": [
       "                   0          1        2                3          4   \\\n",
       "labels  I-corporation  I-product  I-group  I-creative-work  B-product   \n",
       "count              12         94       25              133        114   \n",
       "mean             5.49       4.42     4.25             4.04       3.87   \n",
       "sum             65.93     415.59   106.31           537.37     441.02   \n",
       "\n",
       "                     5        6              7           8         9   \\\n",
       "labels  B-creative-work  B-group  B-corporation  I-location  I-person   \n",
       "count               105       39             34          33       117   \n",
       "mean               3.76     3.53           2.96        2.54      2.41   \n",
       "sum              395.32   137.77         100.81       83.76     281.4   \n",
       "\n",
       "                10        11      12  \n",
       "labels  B-location  B-person       O  \n",
       "count           74       470   14483  \n",
       "mean          1.77      1.39    0.02  \n",
       "sum         131.28    651.22  262.32  "
      ]
     },
     "execution_count": 44,
     "metadata": {},
     "output_type": "execute_result"
    }
   ],
   "source": [
    "(\n",
    "    df_tokens.groupby(\"labels\")[[\"loss\"]]\n",
    "    .agg([\"count\", \"mean\", \"sum\"])\n",
    "    .droplevel(level=0, axis=1)\n",
    "    .sort_values(by=\"mean\", ascending=False)\n",
    "    .reset_index()\n",
    "    .round(2)\n",
    "    .T\n",
    ")"
   ]
  },
  {
   "cell_type": "code",
   "execution_count": 45,
   "id": "c44f1e55-7258-496e-be2c-146dd748b3ef",
   "metadata": {
    "tags": []
   },
   "outputs": [
    {
     "data": {
      "text/html": [
       "<div>\n",
       "<style scoped>\n",
       "    .dataframe tbody tr th:only-of-type {\n",
       "        vertical-align: middle;\n",
       "    }\n",
       "\n",
       "    .dataframe tbody tr th {\n",
       "        vertical-align: top;\n",
       "    }\n",
       "\n",
       "    .dataframe thead th {\n",
       "        text-align: right;\n",
       "    }\n",
       "</style>\n",
       "<table border=\"1\" class=\"dataframe\">\n",
       "  <thead>\n",
       "    <tr style=\"text-align: right;\">\n",
       "      <th></th>\n",
       "      <th>0</th>\n",
       "      <th>1</th>\n",
       "      <th>2</th>\n",
       "      <th>3</th>\n",
       "      <th>4</th>\n",
       "      <th>5</th>\n",
       "      <th>6</th>\n",
       "      <th>7</th>\n",
       "      <th>8</th>\n",
       "      <th>9</th>\n",
       "    </tr>\n",
       "  </thead>\n",
       "  <tbody>\n",
       "    <tr>\n",
       "      <th>input_tokens</th>\n",
       "      <td>t</td>\n",
       "      <td>S</td>\n",
       "      <td>the</td>\n",
       "      <td>s</td>\n",
       "      <td>B</td>\n",
       "      <td>R</td>\n",
       "      <td>T</td>\n",
       "      <td>and</td>\n",
       "      <td>8</td>\n",
       "      <td>.</td>\n",
       "    </tr>\n",
       "    <tr>\n",
       "      <th>count</th>\n",
       "      <td>97</td>\n",
       "      <td>37</td>\n",
       "      <td>393</td>\n",
       "      <td>173</td>\n",
       "      <td>26</td>\n",
       "      <td>25</td>\n",
       "      <td>44</td>\n",
       "      <td>214</td>\n",
       "      <td>7</td>\n",
       "      <td>903</td>\n",
       "    </tr>\n",
       "    <tr>\n",
       "      <th>mean</th>\n",
       "      <td>0.61</td>\n",
       "      <td>1.58</td>\n",
       "      <td>0.14</td>\n",
       "      <td>0.32</td>\n",
       "      <td>1.74</td>\n",
       "      <td>1.79</td>\n",
       "      <td>0.99</td>\n",
       "      <td>0.17</td>\n",
       "      <td>5.08</td>\n",
       "      <td>0.04</td>\n",
       "    </tr>\n",
       "    <tr>\n",
       "      <th>sum</th>\n",
       "      <td>58.96</td>\n",
       "      <td>58.28</td>\n",
       "      <td>56.26</td>\n",
       "      <td>55.72</td>\n",
       "      <td>45.26</td>\n",
       "      <td>44.83</td>\n",
       "      <td>43.57</td>\n",
       "      <td>36.91</td>\n",
       "      <td>35.56</td>\n",
       "      <td>35.02</td>\n",
       "    </tr>\n",
       "  </tbody>\n",
       "</table>\n",
       "</div>"
      ],
      "text/plain": [
       "                  0      1      2      3      4      5      6      7      8  \\\n",
       "input_tokens      t      S    the      s      B      R      T    and      8   \n",
       "count            97     37    393    173     26     25     44    214      7   \n",
       "mean           0.61   1.58   0.14   0.32   1.74   1.79   0.99   0.17   5.08   \n",
       "sum           58.96  58.28  56.26  55.72  45.26  44.83  43.57  36.91  35.56   \n",
       "\n",
       "                  9  \n",
       "input_tokens      .  \n",
       "count           903  \n",
       "mean           0.04  \n",
       "sum           35.02  "
      ]
     },
     "execution_count": 45,
     "metadata": {},
     "output_type": "execute_result"
    }
   ],
   "source": [
    "(\n",
    "    df_tokens.groupby(\"input_tokens\")[[\"loss\"]]\n",
    "    .agg([\"count\", \"mean\", \"sum\"])\n",
    "    .droplevel(level=0, axis=1)  # Get rid of multi-level columns\n",
    "    .sort_values(by=\"sum\", ascending=False)\n",
    "    .reset_index()\n",
    "    .round(2)\n",
    "    .head(10)\n",
    "    .T\n",
    ")"
   ]
  },
  {
   "cell_type": "code",
   "execution_count": 46,
   "id": "4cf02737-2c91-40a2-8a47-4771669e6e89",
   "metadata": {
    "tags": []
   },
   "outputs": [],
   "source": [
    "from sklearn.metrics import ConfusionMatrixDisplay, confusion_matrix\n",
    "import matplotlib.pyplot as plt\n",
    "\n",
    "def plot_confusion_matrix(y_preds, y_true, labels):\n",
    "    cm = confusion_matrix(y_true, y_preds, normalize=\"true\")\n",
    "    fig, ax = plt.subplots(figsize=(6, 6))\n",
    "    disp = ConfusionMatrixDisplay(confusion_matrix=cm, display_labels=labels)\n",
    "    disp.plot(cmap=\"Blues\", values_format=\".2f\", ax=ax, colorbar=False)\n",
    "    ax.set_xticklabels(ax.get_xticklabels(), rotation=45, ha=\"right\")  # ha is for horizontal alignment\n",
    "\n",
    "    plt.title(\"Normalized confusion matrix\")\n",
    "    plt.show()"
   ]
  },
  {
   "cell_type": "code",
   "execution_count": 48,
   "id": "5316f4bb-838a-408a-910f-88b29cebb4b1",
   "metadata": {
    "tags": []
   },
   "outputs": [
    {
     "data": {
      "image/png": "[encoded data removed]",
      "text/plain": [
       "<Figure size 600x600 with 1 Axes>"
      ]
     },
     "metadata": {},
     "output_type": "display_data"
    }
   ],
   "source": [
    "plot_confusion_matrix(df_tokens[\"labels\"], df_tokens[\"predicted_label\"], label_names)"
   ]
  }
 ],
 "metadata": {
  "environment": {
   "kernel": "conda-root-py",
   "name": "workbench-notebooks.m119",
   "type": "gcloud",
   "uri": "us-docker.pkg.dev/deeplearning-platform-release/gcr.io/workbench-notebooks:m119"
  },
  "kernelspec": {
   "display_name": "adsp-nlp",
   "language": "python",
   "name": "micromamba-env-adsp-nlp-adsp-nlp"
  },
  "language_info": {
   "codemirror_mode": {
    "name": "ipython",
    "version": 3
   },
   "file_extension": ".py",
   "mimetype": "text/x-python",
   "name": "python",
   "nbconvert_exporter": "python",
   "pygments_lexer": "ipython3",
   "version": "3.11.9"
  }
 },
 "nbformat": 4,
 "nbformat_minor": 5
}
