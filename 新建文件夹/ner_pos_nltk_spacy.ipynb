{
 "cells": [
  {
   "cell_type": "code",
   "execution_count": 3,
   "id": "bbc4e72d-0569-4a37-85f2-e519a7d4821e",
   "metadata": {
    "tags": []
   },
   "outputs": [],
   "source": [
    "import pandas as pd\n",
    "import spacy \n",
    "from spacy import displacy"
   ]
  },
  {
   "cell_type": "markdown",
   "id": "fe8c0348-4c20-4b6d-adda-8a3f0f391cfb",
   "metadata": {
    "tags": []
   },
   "source": [
    "### SpaCy"
   ]
  },
  {
   "cell_type": "markdown",
   "id": "20eba387-d829-4ea2-b52c-b63cbaccf5fb",
   "metadata": {
    "tags": []
   },
   "source": [
    "#### Loading SpaCy Models:  \n",
    "- en_core_web_sm: English multi-task CNN trained on OntoNotes. Size – 11 MB\n",
    "- en_core_web_md: English multi-task CNN trained on OntoNotes, with GloVe vectors trained on Common Crawl. Size – 91 MB\n",
    "- en_core_web_lg: English multi-task CNN trained on OntoNotes, with GloVe vectors trained on Common Crawl. Size – 789 MB\n",
    "- en_core_web_trf: English transformer pipeline (roberta-base). Components: transformer, tagger, parser, ner, attribute_ruler, lemmatizer.  Size - 438 MB\n",
    "- **en_core_web_trf** is available in SpaCy 3.X only"
   ]
  },
  {
   "cell_type": "code",
   "execution_count": 4,
   "id": "a564a4c9-9485-4453-ad38-5948d79bbbd9",
   "metadata": {
    "tags": []
   },
   "outputs": [],
   "source": [
    "# !python -m spacy download en_core_web_sm\n",
    "# !python -m spacy download en_core_web_md"
   ]
  },
  {
   "cell_type": "code",
   "execution_count": 5,
   "id": "2f7a04d5-7f0f-43c5-a96e-1afe71737f4e",
   "metadata": {
    "tags": []
   },
   "outputs": [],
   "source": [
    "# Load SpaCy model\n",
    "nlp = spacy.load(\"en_core_web_sm\")\n",
    "# nlp = spacy.load(\"en_core_web_md\")"
   ]
  },
  {
   "cell_type": "markdown",
   "id": "8ade79e9-5e27-4a71-977f-74aa8509e006",
   "metadata": {
    "tags": []
   },
   "source": [
    "#### SpaCy for POS tagging - token level\n",
    "- SpaCy pipeline will automatically convert the paragraph into tokens, and analysis each token's POS"
   ]
  },
  {
   "cell_type": "code",
   "execution_count": 6,
   "id": "9d020188-0ae0-451b-897b-faadda11ac57",
   "metadata": {
    "tags": []
   },
   "outputs": [],
   "source": [
    "text = '''In the latest trading session, Caterpillar (CAT) closed at $113.22, marking a +1.52% move from the previous day. \n",
    "This change outpaced the S&P 500's 0.58% gain on the day. At the same time, the Dow added 0.14%, and the tech-heavy Nasdaq gained 1.66%.\n",
    "Heading into today, shares of the construction equipment company had gained 11.4% over the past month, outpacing the Industrial Products \n",
    "sector's loss of 2.53% and the S&P 500's gain of 3.15% in that time.'''"
   ]
  },
  {
   "cell_type": "code",
   "execution_count": 7,
   "id": "58e7c207-6a0c-4cdf-a012-83056fb03ec3",
   "metadata": {
    "tags": []
   },
   "outputs": [
    {
     "data": {
      "text/html": [
       "<div>\n",
       "<style scoped>\n",
       "    .dataframe tbody tr th:only-of-type {\n",
       "        vertical-align: middle;\n",
       "    }\n",
       "\n",
       "    .dataframe tbody tr th {\n",
       "        vertical-align: top;\n",
       "    }\n",
       "\n",
       "    .dataframe thead th {\n",
       "        text-align: right;\n",
       "    }\n",
       "</style>\n",
       "<table border=\"1\" class=\"dataframe\">\n",
       "  <thead>\n",
       "    <tr style=\"text-align: right;\">\n",
       "      <th></th>\n",
       "      <th>Words</th>\n",
       "      <th>Lemma</th>\n",
       "      <th>POS_Tags</th>\n",
       "      <th>POS</th>\n",
       "      <th>Dependency</th>\n",
       "      <th>Shape</th>\n",
       "      <th>Alpha</th>\n",
       "      <th>Numeric</th>\n",
       "      <th>Stopword</th>\n",
       "    </tr>\n",
       "  </thead>\n",
       "  <tbody>\n",
       "    <tr>\n",
       "      <th>0</th>\n",
       "      <td>In</td>\n",
       "      <td>in</td>\n",
       "      <td>IN</td>\n",
       "      <td>ADP</td>\n",
       "      <td>prep</td>\n",
       "      <td>Xx</td>\n",
       "      <td>True</td>\n",
       "      <td>False</td>\n",
       "      <td>True</td>\n",
       "    </tr>\n",
       "    <tr>\n",
       "      <th>1</th>\n",
       "      <td>the</td>\n",
       "      <td>the</td>\n",
       "      <td>DT</td>\n",
       "      <td>DET</td>\n",
       "      <td>det</td>\n",
       "      <td>xxx</td>\n",
       "      <td>True</td>\n",
       "      <td>False</td>\n",
       "      <td>True</td>\n",
       "    </tr>\n",
       "    <tr>\n",
       "      <th>2</th>\n",
       "      <td>latest</td>\n",
       "      <td>late</td>\n",
       "      <td>JJS</td>\n",
       "      <td>ADJ</td>\n",
       "      <td>amod</td>\n",
       "      <td>xxxx</td>\n",
       "      <td>True</td>\n",
       "      <td>False</td>\n",
       "      <td>False</td>\n",
       "    </tr>\n",
       "    <tr>\n",
       "      <th>3</th>\n",
       "      <td>trading</td>\n",
       "      <td>trading</td>\n",
       "      <td>NN</td>\n",
       "      <td>NOUN</td>\n",
       "      <td>compound</td>\n",
       "      <td>xxxx</td>\n",
       "      <td>True</td>\n",
       "      <td>False</td>\n",
       "      <td>False</td>\n",
       "    </tr>\n",
       "    <tr>\n",
       "      <th>4</th>\n",
       "      <td>session</td>\n",
       "      <td>session</td>\n",
       "      <td>NN</td>\n",
       "      <td>NOUN</td>\n",
       "      <td>pobj</td>\n",
       "      <td>xxxx</td>\n",
       "      <td>True</td>\n",
       "      <td>False</td>\n",
       "      <td>False</td>\n",
       "    </tr>\n",
       "    <tr>\n",
       "      <th>...</th>\n",
       "      <td>...</td>\n",
       "      <td>...</td>\n",
       "      <td>...</td>\n",
       "      <td>...</td>\n",
       "      <td>...</td>\n",
       "      <td>...</td>\n",
       "      <td>...</td>\n",
       "      <td>...</td>\n",
       "      <td>...</td>\n",
       "    </tr>\n",
       "    <tr>\n",
       "      <th>100</th>\n",
       "      <td>%</td>\n",
       "      <td>%</td>\n",
       "      <td>NN</td>\n",
       "      <td>NOUN</td>\n",
       "      <td>pobj</td>\n",
       "      <td>%</td>\n",
       "      <td>False</td>\n",
       "      <td>False</td>\n",
       "      <td>False</td>\n",
       "    </tr>\n",
       "    <tr>\n",
       "      <th>101</th>\n",
       "      <td>in</td>\n",
       "      <td>in</td>\n",
       "      <td>IN</td>\n",
       "      <td>ADP</td>\n",
       "      <td>prep</td>\n",
       "      <td>xx</td>\n",
       "      <td>True</td>\n",
       "      <td>False</td>\n",
       "      <td>True</td>\n",
       "    </tr>\n",
       "    <tr>\n",
       "      <th>102</th>\n",
       "      <td>that</td>\n",
       "      <td>that</td>\n",
       "      <td>DT</td>\n",
       "      <td>DET</td>\n",
       "      <td>det</td>\n",
       "      <td>xxxx</td>\n",
       "      <td>True</td>\n",
       "      <td>False</td>\n",
       "      <td>True</td>\n",
       "    </tr>\n",
       "    <tr>\n",
       "      <th>103</th>\n",
       "      <td>time</td>\n",
       "      <td>time</td>\n",
       "      <td>NN</td>\n",
       "      <td>NOUN</td>\n",
       "      <td>pobj</td>\n",
       "      <td>xxxx</td>\n",
       "      <td>True</td>\n",
       "      <td>False</td>\n",
       "      <td>False</td>\n",
       "    </tr>\n",
       "    <tr>\n",
       "      <th>104</th>\n",
       "      <td>.</td>\n",
       "      <td>.</td>\n",
       "      <td>.</td>\n",
       "      <td>PUNCT</td>\n",
       "      <td>punct</td>\n",
       "      <td>.</td>\n",
       "      <td>False</td>\n",
       "      <td>False</td>\n",
       "      <td>False</td>\n",
       "    </tr>\n",
       "  </tbody>\n",
       "</table>\n",
       "<p>105 rows × 9 columns</p>\n",
       "</div>"
      ],
      "text/plain": [
       "       Words    Lemma POS_Tags    POS Dependency Shape  Alpha  Numeric  \\\n",
       "0         In       in       IN    ADP       prep    Xx   True    False   \n",
       "1        the      the       DT    DET        det   xxx   True    False   \n",
       "2     latest     late      JJS    ADJ       amod  xxxx   True    False   \n",
       "3    trading  trading       NN   NOUN   compound  xxxx   True    False   \n",
       "4    session  session       NN   NOUN       pobj  xxxx   True    False   \n",
       "..       ...      ...      ...    ...        ...   ...    ...      ...   \n",
       "100        %        %       NN   NOUN       pobj     %  False    False   \n",
       "101       in       in       IN    ADP       prep    xx   True    False   \n",
       "102     that     that       DT    DET        det  xxxx   True    False   \n",
       "103     time     time       NN   NOUN       pobj  xxxx   True    False   \n",
       "104        .        .        .  PUNCT      punct     .  False    False   \n",
       "\n",
       "     Stopword  \n",
       "0        True  \n",
       "1        True  \n",
       "2       False  \n",
       "3       False  \n",
       "4       False  \n",
       "..        ...  \n",
       "100     False  \n",
       "101      True  \n",
       "102      True  \n",
       "103     False  \n",
       "104     False  \n",
       "\n",
       "[105 rows x 9 columns]"
      ]
     },
     "execution_count": 7,
     "metadata": {},
     "output_type": "execute_result"
    }
   ],
   "source": [
    "# token level analysis\n",
    "import pandas as pd\n",
    "\n",
    "doc = nlp(text)\n",
    "\n",
    "data_tokens = {\n",
    "    'Words': [token.text for token in doc],\n",
    "    'Lemma': [token.lemma_ for token in doc],\n",
    "    'POS_Tags': [token.tag_ for token in doc],\n",
    "    'POS': [token.pos_ for token in doc],\n",
    "    'Dependency': [token.dep_ for token in doc],\n",
    "    'Shape': [token.shape_ for token in doc],\n",
    "    'Alpha': [token.is_alpha for token in doc],\n",
    "    'Numeric': [token.like_num for token in doc],\n",
    "    'Stopword': [token.is_stop for token in doc]\n",
    "}\n",
    "\n",
    "df_tokens = pd.DataFrame(data_tokens)\n",
    "df_tokens"
   ]
  },
  {
   "cell_type": "code",
   "execution_count": 8,
   "id": "2d827df2-3233-4d2b-b6c0-6e56b9e6c2ad",
   "metadata": {
    "tags": []
   },
   "outputs": [
    {
     "name": "stdout",
     "output_type": "stream",
     "text": [
      "Numbers::: at $ 113.22 , marking\n",
      "Percentage::: marking a +1.52 % move\n",
      "Numbers::: the S&P 500 's 0.58\n",
      "Percentage::: 500 's 0.58 % gain\n",
      "Percentage::: Dow added 0.14 % ,\n",
      "Percentage::: Nasdaq gained 1.66 % .\n",
      "Percentage::: had gained 11.4 % over\n",
      "Percentage::: loss of 2.53 % and\n",
      "Numbers::: the S&P 500 's gain\n",
      "Percentage::: gain of 3.15 % in\n"
     ]
    }
   ],
   "source": [
    "for token in doc:\n",
    "    # Check if the token resembles a number\n",
    "    if token.like_num:\n",
    "        # Get the next token in the document\n",
    "        token_prior_2 = doc[token.i - 2]\n",
    "        token_prior_1 = doc[token.i - 1]\n",
    "        token_next_1 = doc[token.i + 1]\n",
    "        token_next_2 = doc[token.i + 2]\n",
    "        if (token_next_1.text == \"%\" or token_next_2.text == \"%\"):\n",
    "            print(\"Percentage:::\", token_prior_2, token_prior_1, token.text, token_next_1, token_next_2)\n",
    "        else:\n",
    "            print(\"Numbers:::\", token_prior_2, token_prior_1, token.text, token_next_1, token_next_2)"
   ]
  },
  {
   "cell_type": "markdown",
   "id": "d7ae107d-9daf-4e28-ad36-df316375af0a",
   "metadata": {
    "tags": []
   },
   "source": [
    "### NER with SpaCy\n",
    "\n",
    "The entity recognizer identifies non-overlapping labelled spans of tokens. The transition-based algorithm used encodes certain assumptions that are effective for “traditional” named entity recognition tasks, but may not be a good fit for every span identification problem. Specifically, the loss function optimizes for whole entity accuracy, so if your inter-annotator agreement on boundary tokens is low, the component will likely perform poorly on your problem.\n",
    "\n",
    "Predictions will be saved to Doc.ents as a tuple. Each label will also be reflected to each underlying token, where it is saved in the Token.ent_type and Token.ent_iob fields. Note that by definition each token can only have one label.\n",
    "\n",
    "When setting Doc.ents to create training data, all the spans must be valid and non-overlapping, or an error will be thrown.\n",
    "\n",
    "| LOCATION        | VALUE                                              | TYPE         |\n",
    "|-----------------|----------------------------------------------------|--------------|\n",
    "| `Doc.ents`      | The annotated spans.                               | `Tuple[Span]`|\n",
    "| `Token.ent_iob` | An enum encoding of the IOB part of the named entity tag. | `int`    |\n",
    "| `Token.ent_iob_`| The IOB part of the named entity tag.              | `str`        |\n",
    "| `Token.ent_type`| The label part of the named entity tag (hash).     | `int`        |\n",
    "| `Token.ent_type_`| The label part of the named entity tag.           | `str`        |\n",
    "\n",
    "\n",
    "More: https://spacy.io/api/entityrecognizer\n"
   ]
  },
  {
   "cell_type": "code",
   "execution_count": 9,
   "id": "75e447e8-908c-41b7-8763-4fb6f1da726c",
   "metadata": {
    "tags": []
   },
   "outputs": [
    {
     "data": {
      "text/plain": [
       "['tok2vec', 'tagger', 'parser', 'attribute_ruler', 'lemmatizer', 'ner']"
      ]
     },
     "execution_count": 9,
     "metadata": {},
     "output_type": "execute_result"
    }
   ],
   "source": [
    "# Checking active pipeline components\n",
    "nlp.pipe_names"
   ]
  },
  {
   "cell_type": "code",
   "execution_count": 10,
   "id": "6e3257b0-8055-42d3-b958-c11108bb9a6d",
   "metadata": {
    "tags": []
   },
   "outputs": [],
   "source": [
    "text = '''Surging Chinese demand and an improving U.S. economy have lifted sales of Caterpillar's signature yellow mining and construction machines. \n",
    "Now, with the pace of growth quickening in Latin America and Europe, the company is projecting higher earnings for 2018 than analysts estimated.  \n",
    "The outlook from Caterpillar, considered an economic bellwether, comes as industries from manufacturing to services report increased sales and orders \n",
    "that have fueled record equity prices and buoyed investor expectations for this year. This week, the International Monetary Fund raised its estimate \n",
    "for 2018 global growth to the fastest in seven years.  Caterpillar's results showed strength across the board in nearly every industry for the first time, \n",
    "which indicated coordinated and synchronized macroeconomic growth, Larry De Maria, an analyst at William Blair & Co., said in an interview. \n",
    "It's a good harbinger for overall economic activity.'''"
   ]
  },
  {
   "cell_type": "code",
   "execution_count": 11,
   "id": "cef7fdd8-576b-45d0-82ae-acedaf078754",
   "metadata": {
    "tags": []
   },
   "outputs": [
    {
     "data": {
      "text/html": [
       "<div>\n",
       "<style scoped>\n",
       "    .dataframe tbody tr th:only-of-type {\n",
       "        vertical-align: middle;\n",
       "    }\n",
       "\n",
       "    .dataframe tbody tr th {\n",
       "        vertical-align: top;\n",
       "    }\n",
       "\n",
       "    .dataframe thead th {\n",
       "        text-align: right;\n",
       "    }\n",
       "</style>\n",
       "<table border=\"1\" class=\"dataframe\">\n",
       "  <thead>\n",
       "    <tr style=\"text-align: right;\">\n",
       "      <th></th>\n",
       "      <th>Entities</th>\n",
       "      <th>Labels</th>\n",
       "      <th>Position_Start</th>\n",
       "      <th>Position_End</th>\n",
       "    </tr>\n",
       "  </thead>\n",
       "  <tbody>\n",
       "    <tr>\n",
       "      <th>0</th>\n",
       "      <td>Chinese</td>\n",
       "      <td>NORP</td>\n",
       "      <td>8</td>\n",
       "      <td>15</td>\n",
       "    </tr>\n",
       "    <tr>\n",
       "      <th>1</th>\n",
       "      <td>U.S.</td>\n",
       "      <td>GPE</td>\n",
       "      <td>40</td>\n",
       "      <td>44</td>\n",
       "    </tr>\n",
       "    <tr>\n",
       "      <th>2</th>\n",
       "      <td>Caterpillar</td>\n",
       "      <td>ORG</td>\n",
       "      <td>74</td>\n",
       "      <td>85</td>\n",
       "    </tr>\n",
       "    <tr>\n",
       "      <th>3</th>\n",
       "      <td>Latin America</td>\n",
       "      <td>LOC</td>\n",
       "      <td>183</td>\n",
       "      <td>196</td>\n",
       "    </tr>\n",
       "    <tr>\n",
       "      <th>4</th>\n",
       "      <td>Europe</td>\n",
       "      <td>LOC</td>\n",
       "      <td>201</td>\n",
       "      <td>207</td>\n",
       "    </tr>\n",
       "    <tr>\n",
       "      <th>5</th>\n",
       "      <td>2018</td>\n",
       "      <td>DATE</td>\n",
       "      <td>255</td>\n",
       "      <td>259</td>\n",
       "    </tr>\n",
       "    <tr>\n",
       "      <th>6</th>\n",
       "      <td>Caterpillar</td>\n",
       "      <td>ORG</td>\n",
       "      <td>304</td>\n",
       "      <td>315</td>\n",
       "    </tr>\n",
       "    <tr>\n",
       "      <th>7</th>\n",
       "      <td>this year</td>\n",
       "      <td>DATE</td>\n",
       "      <td>513</td>\n",
       "      <td>522</td>\n",
       "    </tr>\n",
       "    <tr>\n",
       "      <th>8</th>\n",
       "      <td>This week</td>\n",
       "      <td>DATE</td>\n",
       "      <td>524</td>\n",
       "      <td>533</td>\n",
       "    </tr>\n",
       "    <tr>\n",
       "      <th>9</th>\n",
       "      <td>the International Monetary Fund</td>\n",
       "      <td>ORG</td>\n",
       "      <td>535</td>\n",
       "      <td>566</td>\n",
       "    </tr>\n",
       "    <tr>\n",
       "      <th>10</th>\n",
       "      <td>2018</td>\n",
       "      <td>DATE</td>\n",
       "      <td>592</td>\n",
       "      <td>596</td>\n",
       "    </tr>\n",
       "    <tr>\n",
       "      <th>11</th>\n",
       "      <td>seven years</td>\n",
       "      <td>DATE</td>\n",
       "      <td>629</td>\n",
       "      <td>640</td>\n",
       "    </tr>\n",
       "    <tr>\n",
       "      <th>12</th>\n",
       "      <td>Caterpillar</td>\n",
       "      <td>ORG</td>\n",
       "      <td>643</td>\n",
       "      <td>654</td>\n",
       "    </tr>\n",
       "    <tr>\n",
       "      <th>13</th>\n",
       "      <td>first</td>\n",
       "      <td>ORDINAL</td>\n",
       "      <td>731</td>\n",
       "      <td>736</td>\n",
       "    </tr>\n",
       "    <tr>\n",
       "      <th>14</th>\n",
       "      <td>Larry De Maria</td>\n",
       "      <td>PERSON</td>\n",
       "      <td>811</td>\n",
       "      <td>825</td>\n",
       "    </tr>\n",
       "    <tr>\n",
       "      <th>15</th>\n",
       "      <td>William Blair &amp; Co.</td>\n",
       "      <td>ORG</td>\n",
       "      <td>841</td>\n",
       "      <td>860</td>\n",
       "    </tr>\n",
       "  </tbody>\n",
       "</table>\n",
       "</div>"
      ],
      "text/plain": [
       "                           Entities   Labels  Position_Start  Position_End\n",
       "0                           Chinese     NORP               8            15\n",
       "1                              U.S.      GPE              40            44\n",
       "2                       Caterpillar      ORG              74            85\n",
       "3                     Latin America      LOC             183           196\n",
       "4                            Europe      LOC             201           207\n",
       "5                              2018     DATE             255           259\n",
       "6                       Caterpillar      ORG             304           315\n",
       "7                         this year     DATE             513           522\n",
       "8                         This week     DATE             524           533\n",
       "9   the International Monetary Fund      ORG             535           566\n",
       "10                             2018     DATE             592           596\n",
       "11                      seven years     DATE             629           640\n",
       "12                      Caterpillar      ORG             643           654\n",
       "13                            first  ORDINAL             731           736\n",
       "14                   Larry De Maria   PERSON             811           825\n",
       "15              William Blair & Co.      ORG             841           860"
      ]
     },
     "execution_count": 11,
     "metadata": {},
     "output_type": "execute_result"
    }
   ],
   "source": [
    "doc = nlp(text)\n",
    "\n",
    "data_ents = {\n",
    "    'Entities': [ent.text for ent in doc.ents],\n",
    "    'Labels': [ent.label_ for ent in doc.ents],\n",
    "    'Position_Start': [ent.start_char for ent in doc.ents],\n",
    "    'Position_End': [ent.end_char for ent in doc.ents]\n",
    "}\n",
    "\n",
    "df_ents = pd.DataFrame(data_ents)\n",
    "\n",
    "# Display the first 20 entries of the DataFrame\n",
    "df_ents.head(20)"
   ]
  },
  {
   "cell_type": "code",
   "execution_count": 12,
   "id": "e5de98fc-4a1e-4afb-aba6-9696d74997ec",
   "metadata": {
    "tags": []
   },
   "outputs": [
    {
     "data": {
      "text/plain": [
       "'Buildings, airports, highways, bridges, etc.'"
      ]
     },
     "execution_count": 12,
     "metadata": {},
     "output_type": "execute_result"
    }
   ],
   "source": [
    "# examples of entity explaination\n",
    "spacy.explain(\"FAC\")"
   ]
  },
  {
   "cell_type": "code",
   "execution_count": 13,
   "id": "03e1bbf0-f053-4df5-9e14-69792b1c4920",
   "metadata": {
    "tags": []
   },
   "outputs": [
    {
     "data": {
      "text/plain": [
       "'Nationalities or religious or political groups'"
      ]
     },
     "execution_count": 13,
     "metadata": {},
     "output_type": "execute_result"
    }
   ],
   "source": [
    "spacy.explain(\"NORP\")"
   ]
  },
  {
   "cell_type": "code",
   "execution_count": 14,
   "id": "ac95e0b4-a668-4d89-89b7-c557443816e1",
   "metadata": {
    "tags": []
   },
   "outputs": [
    {
     "data": {
      "text/plain": [
       "'Countries, cities, states'"
      ]
     },
     "execution_count": 14,
     "metadata": {},
     "output_type": "execute_result"
    }
   ],
   "source": [
    "spacy.explain(\"GPE\")"
   ]
  },
  {
   "cell_type": "code",
   "execution_count": 15,
   "id": "ba91fd7a-ca49-441e-a155-7492823f6d49",
   "metadata": {
    "tags": []
   },
   "outputs": [
    {
     "data": {
      "text/html": [
       "<div>\n",
       "<style scoped>\n",
       "    .dataframe tbody tr th:only-of-type {\n",
       "        vertical-align: middle;\n",
       "    }\n",
       "\n",
       "    .dataframe tbody tr th {\n",
       "        vertical-align: top;\n",
       "    }\n",
       "\n",
       "    .dataframe thead th {\n",
       "        text-align: right;\n",
       "    }\n",
       "</style>\n",
       "<table border=\"1\" class=\"dataframe\">\n",
       "  <thead>\n",
       "    <tr style=\"text-align: right;\">\n",
       "      <th></th>\n",
       "      <th>Entities</th>\n",
       "      <th>Labels</th>\n",
       "      <th>Position_Start</th>\n",
       "      <th>Position_End</th>\n",
       "    </tr>\n",
       "  </thead>\n",
       "  <tbody>\n",
       "    <tr>\n",
       "      <th>2</th>\n",
       "      <td>Caterpillar</td>\n",
       "      <td>ORG</td>\n",
       "      <td>74</td>\n",
       "      <td>85</td>\n",
       "    </tr>\n",
       "    <tr>\n",
       "      <th>6</th>\n",
       "      <td>Caterpillar</td>\n",
       "      <td>ORG</td>\n",
       "      <td>304</td>\n",
       "      <td>315</td>\n",
       "    </tr>\n",
       "    <tr>\n",
       "      <th>9</th>\n",
       "      <td>the International Monetary Fund</td>\n",
       "      <td>ORG</td>\n",
       "      <td>535</td>\n",
       "      <td>566</td>\n",
       "    </tr>\n",
       "    <tr>\n",
       "      <th>12</th>\n",
       "      <td>Caterpillar</td>\n",
       "      <td>ORG</td>\n",
       "      <td>643</td>\n",
       "      <td>654</td>\n",
       "    </tr>\n",
       "    <tr>\n",
       "      <th>15</th>\n",
       "      <td>William Blair &amp; Co.</td>\n",
       "      <td>ORG</td>\n",
       "      <td>841</td>\n",
       "      <td>860</td>\n",
       "    </tr>\n",
       "  </tbody>\n",
       "</table>\n",
       "</div>"
      ],
      "text/plain": [
       "                           Entities Labels  Position_Start  Position_End\n",
       "2                       Caterpillar    ORG              74            85\n",
       "6                       Caterpillar    ORG             304           315\n",
       "9   the International Monetary Fund    ORG             535           566\n",
       "12                      Caterpillar    ORG             643           654\n",
       "15              William Blair & Co.    ORG             841           860"
      ]
     },
     "execution_count": 15,
     "metadata": {},
     "output_type": "execute_result"
    }
   ],
   "source": [
    "# Organization Entity\n",
    "df_ents[df_ents.Labels == 'ORG']"
   ]
  },
  {
   "cell_type": "code",
   "execution_count": 16,
   "id": "6f859975-3017-4ea0-9503-18d33f269d41",
   "metadata": {
    "tags": []
   },
   "outputs": [
    {
     "data": {
      "text/html": [
       "<div>\n",
       "<style scoped>\n",
       "    .dataframe tbody tr th:only-of-type {\n",
       "        vertical-align: middle;\n",
       "    }\n",
       "\n",
       "    .dataframe tbody tr th {\n",
       "        vertical-align: top;\n",
       "    }\n",
       "\n",
       "    .dataframe thead th {\n",
       "        text-align: right;\n",
       "    }\n",
       "</style>\n",
       "<table border=\"1\" class=\"dataframe\">\n",
       "  <thead>\n",
       "    <tr style=\"text-align: right;\">\n",
       "      <th></th>\n",
       "      <th>Entities</th>\n",
       "      <th>Labels</th>\n",
       "      <th>Position_Start</th>\n",
       "      <th>Position_End</th>\n",
       "    </tr>\n",
       "  </thead>\n",
       "  <tbody>\n",
       "    <tr>\n",
       "      <th>14</th>\n",
       "      <td>Larry De Maria</td>\n",
       "      <td>PERSON</td>\n",
       "      <td>811</td>\n",
       "      <td>825</td>\n",
       "    </tr>\n",
       "  </tbody>\n",
       "</table>\n",
       "</div>"
      ],
      "text/plain": [
       "          Entities  Labels  Position_Start  Position_End\n",
       "14  Larry De Maria  PERSON             811           825"
      ]
     },
     "execution_count": 16,
     "metadata": {},
     "output_type": "execute_result"
    }
   ],
   "source": [
    "# Person Entity\n",
    "df_ents[df_ents.Labels == 'PERSON']"
   ]
  },
  {
   "cell_type": "code",
   "execution_count": 17,
   "id": "8b65cb48-2e8e-4819-a86e-71e01d92d816",
   "metadata": {
    "tags": []
   },
   "outputs": [
    {
     "data": {
      "text/html": [
       "<div>\n",
       "<style scoped>\n",
       "    .dataframe tbody tr th:only-of-type {\n",
       "        vertical-align: middle;\n",
       "    }\n",
       "\n",
       "    .dataframe tbody tr th {\n",
       "        vertical-align: top;\n",
       "    }\n",
       "\n",
       "    .dataframe thead th {\n",
       "        text-align: right;\n",
       "    }\n",
       "</style>\n",
       "<table border=\"1\" class=\"dataframe\">\n",
       "  <thead>\n",
       "    <tr style=\"text-align: right;\">\n",
       "      <th></th>\n",
       "      <th>Entities</th>\n",
       "      <th>Labels</th>\n",
       "      <th>Position_Start</th>\n",
       "      <th>Position_End</th>\n",
       "    </tr>\n",
       "  </thead>\n",
       "  <tbody>\n",
       "    <tr>\n",
       "      <th>1</th>\n",
       "      <td>U.S.</td>\n",
       "      <td>GPE</td>\n",
       "      <td>40</td>\n",
       "      <td>44</td>\n",
       "    </tr>\n",
       "  </tbody>\n",
       "</table>\n",
       "</div>"
      ],
      "text/plain": [
       "  Entities Labels  Position_Start  Position_End\n",
       "1     U.S.    GPE              40            44"
      ]
     },
     "execution_count": 17,
     "metadata": {},
     "output_type": "execute_result"
    }
   ],
   "source": [
    "# Geopolitical Entity\n",
    "df_ents[df_ents.Labels == 'GPE']"
   ]
  },
  {
   "cell_type": "code",
   "execution_count": 18,
   "id": "b1c62550-6f8e-4bcb-97ff-1d70c52a4b8a",
   "metadata": {
    "tags": []
   },
   "outputs": [
    {
     "data": {
      "text/plain": [
       "('CARDINAL',\n",
       " 'DATE',\n",
       " 'EVENT',\n",
       " 'FAC',\n",
       " 'GPE',\n",
       " 'LANGUAGE',\n",
       " 'LAW',\n",
       " 'LOC',\n",
       " 'MONEY',\n",
       " 'NORP',\n",
       " 'ORDINAL',\n",
       " 'ORG',\n",
       " 'PERCENT',\n",
       " 'PERSON',\n",
       " 'PRODUCT',\n",
       " 'QUANTITY',\n",
       " 'TIME',\n",
       " 'WORK_OF_ART')"
      ]
     },
     "execution_count": 18,
     "metadata": {},
     "output_type": "execute_result"
    }
   ],
   "source": [
    "# view all the Entity labels\n",
    "nlp.get_pipe(\"ner\").labels"
   ]
  },
  {
   "cell_type": "code",
   "execution_count": 19,
   "id": "afe7694d-6f38-43ae-99f8-fbab8e89d038",
   "metadata": {
    "tags": []
   },
   "outputs": [],
   "source": [
    "# Another example\n",
    "text = '''The NBC Tower is an office tower on the Near North Side of Chicago, Illinois located at 454 North Columbus Drive in downtown \n",
    "Chicago's Magnificent Mile area. Completed in 1989, the 37-story building reaches a height of 627 feet'''"
   ]
  },
  {
   "cell_type": "code",
   "execution_count": 21,
   "id": "9e559d9d-0654-4a70-a082-38dcb6a50fb6",
   "metadata": {
    "tags": []
   },
   "outputs": [],
   "source": [
    "# using large model now\n",
    "nlp = spacy.load(\"en_core_web_md\")"
   ]
  },
  {
   "cell_type": "code",
   "execution_count": 22,
   "id": "80d5a887-7198-428f-9529-db5465ec9580",
   "metadata": {
    "tags": []
   },
   "outputs": [
    {
     "data": {
      "text/html": [
       "<div>\n",
       "<style scoped>\n",
       "    .dataframe tbody tr th:only-of-type {\n",
       "        vertical-align: middle;\n",
       "    }\n",
       "\n",
       "    .dataframe tbody tr th {\n",
       "        vertical-align: top;\n",
       "    }\n",
       "\n",
       "    .dataframe thead th {\n",
       "        text-align: right;\n",
       "    }\n",
       "</style>\n",
       "<table border=\"1\" class=\"dataframe\">\n",
       "  <thead>\n",
       "    <tr style=\"text-align: right;\">\n",
       "      <th></th>\n",
       "      <th>Entities</th>\n",
       "      <th>Labels</th>\n",
       "      <th>Position_Start</th>\n",
       "      <th>Position_End</th>\n",
       "    </tr>\n",
       "  </thead>\n",
       "  <tbody>\n",
       "    <tr>\n",
       "      <th>0</th>\n",
       "      <td>The NBC Tower</td>\n",
       "      <td>ORG</td>\n",
       "      <td>0</td>\n",
       "      <td>13</td>\n",
       "    </tr>\n",
       "    <tr>\n",
       "      <th>1</th>\n",
       "      <td>the Near North Side</td>\n",
       "      <td>LOC</td>\n",
       "      <td>36</td>\n",
       "      <td>55</td>\n",
       "    </tr>\n",
       "    <tr>\n",
       "      <th>2</th>\n",
       "      <td>Chicago</td>\n",
       "      <td>GPE</td>\n",
       "      <td>59</td>\n",
       "      <td>66</td>\n",
       "    </tr>\n",
       "    <tr>\n",
       "      <th>3</th>\n",
       "      <td>Illinois</td>\n",
       "      <td>GPE</td>\n",
       "      <td>68</td>\n",
       "      <td>76</td>\n",
       "    </tr>\n",
       "    <tr>\n",
       "      <th>4</th>\n",
       "      <td>454</td>\n",
       "      <td>CARDINAL</td>\n",
       "      <td>88</td>\n",
       "      <td>91</td>\n",
       "    </tr>\n",
       "    <tr>\n",
       "      <th>5</th>\n",
       "      <td>North Columbus Drive</td>\n",
       "      <td>FAC</td>\n",
       "      <td>92</td>\n",
       "      <td>112</td>\n",
       "    </tr>\n",
       "    <tr>\n",
       "      <th>6</th>\n",
       "      <td>Chicago</td>\n",
       "      <td>GPE</td>\n",
       "      <td>126</td>\n",
       "      <td>133</td>\n",
       "    </tr>\n",
       "    <tr>\n",
       "      <th>7</th>\n",
       "      <td>Magnificent Mile</td>\n",
       "      <td>LOC</td>\n",
       "      <td>136</td>\n",
       "      <td>152</td>\n",
       "    </tr>\n",
       "    <tr>\n",
       "      <th>8</th>\n",
       "      <td>1989</td>\n",
       "      <td>DATE</td>\n",
       "      <td>172</td>\n",
       "      <td>176</td>\n",
       "    </tr>\n",
       "    <tr>\n",
       "      <th>9</th>\n",
       "      <td>37</td>\n",
       "      <td>CARDINAL</td>\n",
       "      <td>182</td>\n",
       "      <td>184</td>\n",
       "    </tr>\n",
       "    <tr>\n",
       "      <th>10</th>\n",
       "      <td>627 feet</td>\n",
       "      <td>QUANTITY</td>\n",
       "      <td>220</td>\n",
       "      <td>228</td>\n",
       "    </tr>\n",
       "  </tbody>\n",
       "</table>\n",
       "</div>"
      ],
      "text/plain": [
       "                Entities    Labels  Position_Start  Position_End\n",
       "0          The NBC Tower       ORG               0            13\n",
       "1    the Near North Side       LOC              36            55\n",
       "2                Chicago       GPE              59            66\n",
       "3               Illinois       GPE              68            76\n",
       "4                    454  CARDINAL              88            91\n",
       "5   North Columbus Drive       FAC              92           112\n",
       "6                Chicago       GPE             126           133\n",
       "7       Magnificent Mile       LOC             136           152\n",
       "8                   1989      DATE             172           176\n",
       "9                     37  CARDINAL             182           184\n",
       "10              627 feet  QUANTITY             220           228"
      ]
     },
     "execution_count": 22,
     "metadata": {},
     "output_type": "execute_result"
    }
   ],
   "source": [
    "doc = nlp(text)\n",
    "\n",
    "data_ents = {\n",
    "    'Entities': [ent.text for ent in doc.ents],\n",
    "    'Labels': [ent.label_ for ent in doc.ents],\n",
    "    'Position_Start': [ent.start_char for ent in doc.ents],\n",
    "    'Position_End': [ent.end_char for ent in doc.ents]\n",
    "}\n",
    "\n",
    "df_ents = pd.DataFrame(data_ents)\n",
    "\n",
    "df_ents"
   ]
  },
  {
   "cell_type": "code",
   "execution_count": 23,
   "id": "51050c66-a954-44a7-8e5c-ec950256193e",
   "metadata": {
    "tags": []
   },
   "outputs": [
    {
     "data": {
      "text/html": [
       "<span class=\"tex2jax_ignore\"><div class=\"entities\" style=\"line-height: 2.5; direction: ltr\">\n",
       "<mark class=\"entity\" style=\"background: #7aecec; padding: 0.45em 0.6em; margin: 0 0.25em; line-height: 1; border-radius: 0.35em;\">\n",
       "    The NBC Tower\n",
       "    <span style=\"font-size: 0.8em; font-weight: bold; line-height: 1; border-radius: 0.35em; vertical-align: middle; margin-left: 0.5rem\">ORG</span>\n",
       "</mark>\n",
       " is an office tower on \n",
       "<mark class=\"entity\" style=\"background: #ff9561; padding: 0.45em 0.6em; margin: 0 0.25em; line-height: 1; border-radius: 0.35em;\">\n",
       "    the Near North Side\n",
       "    <span style=\"font-size: 0.8em; font-weight: bold; line-height: 1; border-radius: 0.35em; vertical-align: middle; margin-left: 0.5rem\">LOC</span>\n",
       "</mark>\n",
       " of \n",
       "<mark class=\"entity\" style=\"background: #feca74; padding: 0.45em 0.6em; margin: 0 0.25em; line-height: 1; border-radius: 0.35em;\">\n",
       "    Chicago\n",
       "    <span style=\"font-size: 0.8em; font-weight: bold; line-height: 1; border-radius: 0.35em; vertical-align: middle; margin-left: 0.5rem\">GPE</span>\n",
       "</mark>\n",
       ", \n",
       "<mark class=\"entity\" style=\"background: #feca74; padding: 0.45em 0.6em; margin: 0 0.25em; line-height: 1; border-radius: 0.35em;\">\n",
       "    Illinois\n",
       "    <span style=\"font-size: 0.8em; font-weight: bold; line-height: 1; border-radius: 0.35em; vertical-align: middle; margin-left: 0.5rem\">GPE</span>\n",
       "</mark>\n",
       " located at \n",
       "<mark class=\"entity\" style=\"background: #e4e7d2; padding: 0.45em 0.6em; margin: 0 0.25em; line-height: 1; border-radius: 0.35em;\">\n",
       "    454\n",
       "    <span style=\"font-size: 0.8em; font-weight: bold; line-height: 1; border-radius: 0.35em; vertical-align: middle; margin-left: 0.5rem\">CARDINAL</span>\n",
       "</mark>\n",
       " \n",
       "<mark class=\"entity\" style=\"background: #9cc9cc; padding: 0.45em 0.6em; margin: 0 0.25em; line-height: 1; border-radius: 0.35em;\">\n",
       "    North Columbus Drive\n",
       "    <span style=\"font-size: 0.8em; font-weight: bold; line-height: 1; border-radius: 0.35em; vertical-align: middle; margin-left: 0.5rem\">FAC</span>\n",
       "</mark>\n",
       " in downtown <br>\n",
       "<mark class=\"entity\" style=\"background: #feca74; padding: 0.45em 0.6em; margin: 0 0.25em; line-height: 1; border-radius: 0.35em;\">\n",
       "    Chicago\n",
       "    <span style=\"font-size: 0.8em; font-weight: bold; line-height: 1; border-radius: 0.35em; vertical-align: middle; margin-left: 0.5rem\">GPE</span>\n",
       "</mark>\n",
       "'s \n",
       "<mark class=\"entity\" style=\"background: #ff9561; padding: 0.45em 0.6em; margin: 0 0.25em; line-height: 1; border-radius: 0.35em;\">\n",
       "    Magnificent Mile\n",
       "    <span style=\"font-size: 0.8em; font-weight: bold; line-height: 1; border-radius: 0.35em; vertical-align: middle; margin-left: 0.5rem\">LOC</span>\n",
       "</mark>\n",
       " area. Completed in \n",
       "<mark class=\"entity\" style=\"background: #bfe1d9; padding: 0.45em 0.6em; margin: 0 0.25em; line-height: 1; border-radius: 0.35em;\">\n",
       "    1989\n",
       "    <span style=\"font-size: 0.8em; font-weight: bold; line-height: 1; border-radius: 0.35em; vertical-align: middle; margin-left: 0.5rem\">DATE</span>\n",
       "</mark>\n",
       ", the \n",
       "<mark class=\"entity\" style=\"background: #e4e7d2; padding: 0.45em 0.6em; margin: 0 0.25em; line-height: 1; border-radius: 0.35em;\">\n",
       "    37\n",
       "    <span style=\"font-size: 0.8em; font-weight: bold; line-height: 1; border-radius: 0.35em; vertical-align: middle; margin-left: 0.5rem\">CARDINAL</span>\n",
       "</mark>\n",
       "-story building reaches a height of \n",
       "<mark class=\"entity\" style=\"background: #e4e7d2; padding: 0.45em 0.6em; margin: 0 0.25em; line-height: 1; border-radius: 0.35em;\">\n",
       "    627 feet\n",
       "    <span style=\"font-size: 0.8em; font-weight: bold; line-height: 1; border-radius: 0.35em; vertical-align: middle; margin-left: 0.5rem\">QUANTITY</span>\n",
       "</mark>\n",
       "</div></span>"
      ],
      "text/plain": [
       "<IPython.core.display.HTML object>"
      ]
     },
     "metadata": {},
     "output_type": "display_data"
    }
   ],
   "source": [
    "# visalize with SpaCy\n",
    "displacy.render(doc, jupyter = True, style = \"ent\")"
   ]
  },
  {
   "cell_type": "code",
   "execution_count": 24,
   "id": "8e22bae0",
   "metadata": {
    "tags": []
   },
   "outputs": [],
   "source": [
    "with open(\"./data/ioi.txt\", \"r\") as f:\n",
    "    ioi_text = f.read()"
   ]
  },
  {
   "cell_type": "code",
   "execution_count": 25,
   "id": "f391dcd0",
   "metadata": {
    "tags": []
   },
   "outputs": [
    {
     "data": {
      "text/plain": [
       "'Quantum Capital Partners\\n100 Investment Blvd, Suite 3000\\nNew York, NY 10020\\nJuly 16, 2024\\n\\nCONFIDENT'"
      ]
     },
     "execution_count": 25,
     "metadata": {},
     "output_type": "execute_result"
    }
   ],
   "source": [
    "ioi_text[:100]"
   ]
  },
  {
   "cell_type": "code",
   "execution_count": 26,
   "id": "7050e8b1",
   "metadata": {
    "tags": []
   },
   "outputs": [
    {
     "data": {
      "text/html": [
       "<div>\n",
       "<style scoped>\n",
       "    .dataframe tbody tr th:only-of-type {\n",
       "        vertical-align: middle;\n",
       "    }\n",
       "\n",
       "    .dataframe tbody tr th {\n",
       "        vertical-align: top;\n",
       "    }\n",
       "\n",
       "    .dataframe thead th {\n",
       "        text-align: right;\n",
       "    }\n",
       "</style>\n",
       "<table border=\"1\" class=\"dataframe\">\n",
       "  <thead>\n",
       "    <tr style=\"text-align: right;\">\n",
       "      <th></th>\n",
       "      <th>Entities</th>\n",
       "      <th>Labels</th>\n",
       "      <th>Position_Start</th>\n",
       "      <th>Position_End</th>\n",
       "    </tr>\n",
       "  </thead>\n",
       "  <tbody>\n",
       "    <tr>\n",
       "      <th>0</th>\n",
       "      <td>Quantum Capital Partners</td>\n",
       "      <td>ORG</td>\n",
       "      <td>0</td>\n",
       "      <td>24</td>\n",
       "    </tr>\n",
       "    <tr>\n",
       "      <th>1</th>\n",
       "      <td>100</td>\n",
       "      <td>CARDINAL</td>\n",
       "      <td>25</td>\n",
       "      <td>28</td>\n",
       "    </tr>\n",
       "    <tr>\n",
       "      <th>2</th>\n",
       "      <td>New York</td>\n",
       "      <td>GPE</td>\n",
       "      <td>57</td>\n",
       "      <td>65</td>\n",
       "    </tr>\n",
       "    <tr>\n",
       "      <th>3</th>\n",
       "      <td>NY</td>\n",
       "      <td>GPE</td>\n",
       "      <td>67</td>\n",
       "      <td>69</td>\n",
       "    </tr>\n",
       "    <tr>\n",
       "      <th>4</th>\n",
       "      <td>July 16, 2024</td>\n",
       "      <td>DATE</td>\n",
       "      <td>76</td>\n",
       "      <td>89</td>\n",
       "    </tr>\n",
       "    <tr>\n",
       "      <th>5</th>\n",
       "      <td>CONFIDENTIAL\\n\\nBoard of Directors</td>\n",
       "      <td>ORG</td>\n",
       "      <td>91</td>\n",
       "      <td>123</td>\n",
       "    </tr>\n",
       "    <tr>\n",
       "      <th>6</th>\n",
       "      <td>Zephyr Technologies Inc.</td>\n",
       "      <td>ORG</td>\n",
       "      <td>124</td>\n",
       "      <td>148</td>\n",
       "    </tr>\n",
       "    <tr>\n",
       "      <th>7</th>\n",
       "      <td>400</td>\n",
       "      <td>CARDINAL</td>\n",
       "      <td>149</td>\n",
       "      <td>152</td>\n",
       "    </tr>\n",
       "    <tr>\n",
       "      <th>8</th>\n",
       "      <td>San Jose</td>\n",
       "      <td>GPE</td>\n",
       "      <td>168</td>\n",
       "      <td>176</td>\n",
       "    </tr>\n",
       "    <tr>\n",
       "      <th>9</th>\n",
       "      <td>CA</td>\n",
       "      <td>GPE</td>\n",
       "      <td>178</td>\n",
       "      <td>180</td>\n",
       "    </tr>\n",
       "    <tr>\n",
       "      <th>10</th>\n",
       "      <td>Board</td>\n",
       "      <td>ORG</td>\n",
       "      <td>208</td>\n",
       "      <td>213</td>\n",
       "    </tr>\n",
       "    <tr>\n",
       "      <th>11</th>\n",
       "      <td>Zephyr Technologies Inc.</td>\n",
       "      <td>ORG</td>\n",
       "      <td>261</td>\n",
       "      <td>285</td>\n",
       "    </tr>\n",
       "    <tr>\n",
       "      <th>12</th>\n",
       "      <td>Quantum Capital Partners</td>\n",
       "      <td>ORG</td>\n",
       "      <td>291</td>\n",
       "      <td>315</td>\n",
       "    </tr>\n",
       "    <tr>\n",
       "      <th>13</th>\n",
       "      <td>Zephyr Technologies Inc.</td>\n",
       "      <td>ORG</td>\n",
       "      <td>411</td>\n",
       "      <td>435</td>\n",
       "    </tr>\n",
       "    <tr>\n",
       "      <th>14</th>\n",
       "      <td>Quantum</td>\n",
       "      <td>ORG</td>\n",
       "      <td>542</td>\n",
       "      <td>549</td>\n",
       "    </tr>\n",
       "    <tr>\n",
       "      <th>15</th>\n",
       "      <td>Quantum Capital Partners</td>\n",
       "      <td>ORG</td>\n",
       "      <td>706</td>\n",
       "      <td>730</td>\n",
       "    </tr>\n",
       "    <tr>\n",
       "      <th>16</th>\n",
       "      <td>New York</td>\n",
       "      <td>GPE</td>\n",
       "      <td>741</td>\n",
       "      <td>749</td>\n",
       "    </tr>\n",
       "    <tr>\n",
       "      <th>17</th>\n",
       "      <td>over $10 billion</td>\n",
       "      <td>MONEY</td>\n",
       "      <td>845</td>\n",
       "      <td>861</td>\n",
       "    </tr>\n",
       "    <tr>\n",
       "      <th>18</th>\n",
       "      <td>Zephyr Technologies</td>\n",
       "      <td>ORG</td>\n",
       "      <td>999</td>\n",
       "      <td>1018</td>\n",
       "    </tr>\n",
       "    <tr>\n",
       "      <th>19</th>\n",
       "      <td>Zephyr Technologies</td>\n",
       "      <td>ORG</td>\n",
       "      <td>1093</td>\n",
       "      <td>1112</td>\n",
       "    </tr>\n",
       "  </tbody>\n",
       "</table>\n",
       "</div>"
      ],
      "text/plain": [
       "                              Entities    Labels  Position_Start  Position_End\n",
       "0             Quantum Capital Partners       ORG               0            24\n",
       "1                                  100  CARDINAL              25            28\n",
       "2                             New York       GPE              57            65\n",
       "3                                   NY       GPE              67            69\n",
       "4                        July 16, 2024      DATE              76            89\n",
       "5   CONFIDENTIAL\\n\\nBoard of Directors       ORG              91           123\n",
       "6             Zephyr Technologies Inc.       ORG             124           148\n",
       "7                                  400  CARDINAL             149           152\n",
       "8                             San Jose       GPE             168           176\n",
       "9                                   CA       GPE             178           180\n",
       "10                               Board       ORG             208           213\n",
       "11            Zephyr Technologies Inc.       ORG             261           285\n",
       "12            Quantum Capital Partners       ORG             291           315\n",
       "13            Zephyr Technologies Inc.       ORG             411           435\n",
       "14                             Quantum       ORG             542           549\n",
       "15            Quantum Capital Partners       ORG             706           730\n",
       "16                            New York       GPE             741           749\n",
       "17                    over $10 billion     MONEY             845           861\n",
       "18                 Zephyr Technologies       ORG             999          1018\n",
       "19                 Zephyr Technologies       ORG            1093          1112"
      ]
     },
     "execution_count": 26,
     "metadata": {},
     "output_type": "execute_result"
    }
   ],
   "source": [
    "doc = nlp(ioi_text)\n",
    "\n",
    "data_ents = {\n",
    "    'Entities': [ent.text for ent in doc.ents],\n",
    "    'Labels': [ent.label_ for ent in doc.ents],\n",
    "    'Position_Start': [ent.start_char for ent in doc.ents],\n",
    "    'Position_End': [ent.end_char for ent in doc.ents]\n",
    "}\n",
    "\n",
    "df_ents = pd.DataFrame(data_ents)\n",
    "\n",
    "# Display the first 20 entries of the DataFrame\n",
    "df_ents.head(20)"
   ]
  },
  {
   "cell_type": "markdown",
   "id": "3a9fe5ca-7e0a-4eff-b1db-ba8e3685736f",
   "metadata": {},
   "source": [
    "### NER with NLTK"
   ]
  },
  {
   "cell_type": "code",
   "execution_count": 32,
   "id": "1a3d2a69-e617-47f7-862e-51cd91b1f5cb",
   "metadata": {
    "tags": []
   },
   "outputs": [],
   "source": [
    "import nltk\n",
    "# nltk.download('popular', halt_on_error=False)\n",
    "# nltk.download('all', halt_on_error=False)"
   ]
  },
  {
   "cell_type": "code",
   "execution_count": 28,
   "id": "dcd3581e-e848-4b3f-8019-6def13e74b71",
   "metadata": {
    "tags": []
   },
   "outputs": [],
   "source": [
    "import os\n",
    "import requests\n",
    "import nltk.corpus  \n",
    "from nltk.text import Text\n",
    "import pandas as pd\n",
    "import re\n",
    "import sys"
   ]
  },
  {
   "cell_type": "code",
   "execution_count": 29,
   "id": "5acbec25-c68b-44af-98b9-3098f98dc808",
   "metadata": {
    "tags": []
   },
   "outputs": [],
   "source": [
    "text = '''Surging Chinese demand and an improving U.S. economy have lifted sales of Caterpillar's signature yellow mining and construction machines. \n",
    "Now, with the pace of growth quickening in Latin America and Europe, the company is projecting higher earnings for 2018 than analysts estimated.  \n",
    "The outlook from Caterpillar, considered an economic bellwether, comes as industries from manufacturing to services report increased sales and orders \n",
    "that have fueled record equity prices and buoyed investor expectations for this year. This week, the International Monetary Fund raised its estimate \n",
    "for 2018 global growth to the fastest in seven years.  Caterpillar's results showed strength across the board in nearly every industry for the first time, \n",
    "which indicated coordinated and synchronized macroeconomic growth, Larry De Maria, an analyst at William Blair & Co., said in an interview. \n",
    "It's a good harbinger for overall economic activity.'''"
   ]
  },
  {
   "cell_type": "code",
   "execution_count": 30,
   "id": "ac16c6db-fc29-45bd-bf0d-b786226de132",
   "metadata": {
    "tags": []
   },
   "outputs": [
    {
     "data": {
      "text/plain": [
       "[('Latin America', 'GPE'),\n",
       " ('William Blair', 'PERSON'),\n",
       " ('Larry De Maria', 'PERSON'),\n",
       " ('U.S.', 'GPE'),\n",
       " ('Chinese', 'GPE'),\n",
       " ('International Monetary Fund', 'ORGANIZATION'),\n",
       " ('Europe', 'GPE'),\n",
       " ('Caterpillar', 'GPE'),\n",
       " ('Caterpillar', 'PERSON')]"
      ]
     },
     "execution_count": 30,
     "metadata": {},
     "output_type": "execute_result"
    }
   ],
   "source": [
    "# NLTK chunked_sentences is a tree structure, or list of lists.  We have to traverse it to get the values\n",
    "\n",
    "entities = []\n",
    "labels = []\n",
    "for chunk in nltk.ne_chunk(nltk.pos_tag(nltk.word_tokenize(text))): #Binary=True means just tag entities as NE \n",
    "    if hasattr(chunk, 'label'):\n",
    "        entities.append(' '.join(c[0] for c in chunk)) #Add space as between multi-token entities\n",
    "        labels.append(chunk.label())\n",
    "\n",
    "#entities_labels = list(zip(entities, labels))\n",
    "entities_labels = list(set(zip(entities, labels))) #unique entities\n",
    "entities_labels"
   ]
  },
  {
   "cell_type": "code",
   "execution_count": 31,
   "id": "31a4ab1e-b581-4b3d-aef1-d0607eecdec8",
   "metadata": {
    "tags": []
   },
   "outputs": [
    {
     "data": {
      "text/plain": [
       "[('Latin America', 'GPE'),\n",
       " ('William Blair', 'PERSON'),\n",
       " ('Larry De Maria', 'PERSON'),\n",
       " ('U.S.', 'GPE'),\n",
       " ('Chinese', 'GPE'),\n",
       " ('International Monetary Fund', 'ORGANIZATION'),\n",
       " ('Europe', 'GPE'),\n",
       " ('Caterpillar', 'GPE')]"
      ]
     },
     "execution_count": 31,
     "metadata": {},
     "output_type": "execute_result"
    }
   ],
   "source": [
    "# Alternative NER, separating by sentenses first, then by tokens\n",
    "entities = []\n",
    "labels = []\n",
    "\n",
    "for sent in nltk.sent_tokenize(text):\n",
    "    for chunk in nltk.ne_chunk(nltk.pos_tag(nltk.word_tokenize(sent)), binary = False):\n",
    "        if hasattr(chunk, 'label'):\n",
    "            entities.append(' '.join(c[0] for c in chunk)) #Add space as between multi-token entities\n",
    "            labels.append(chunk.label())\n",
    "\n",
    "#entities_labels = list(zip(entities, labels))\n",
    "entities_labels = list(set(zip(entities, labels))) #unique entities\n",
    "entities_labels"
   ]
  }
 ],
 "metadata": {
  "environment": {
   "kernel": "conda-root-py",
   "name": "workbench-notebooks.m119",
   "type": "gcloud",
   "uri": "us-docker.pkg.dev/deeplearning-platform-release/gcr.io/workbench-notebooks:m119"
  },
  "kernelspec": {
   "display_name": "adsp-nlp",
   "language": "python",
   "name": "micromamba-env-adsp-nlp-adsp-nlp"
  },
  "language_info": {
   "codemirror_mode": {
    "name": "ipython",
    "version": 3
   },
   "file_extension": ".py",
   "mimetype": "text/x-python",
   "name": "python",
   "nbconvert_exporter": "python",
   "pygments_lexer": "ipython3",
   "version": "3.11.9"
  }
 },
 "nbformat": 4,
 "nbformat_minor": 5
}
